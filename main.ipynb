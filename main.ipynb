{
 "cells": [
  {
   "attachments": {},
   "cell_type": "markdown",
   "id": "012783df-7712-4b76-b5f1-ab0466fcd2d2",
   "metadata": {},
   "source": [
    "# predict image acquisition parameters (IAPs) directly from breast MR images"
   ]
  },
  {
   "cell_type": "code",
   "execution_count": 1,
   "id": "2b29c824",
   "metadata": {},
   "outputs": [],
   "source": [
    "import os\n",
    "if os.getcwd() != 'workspace' and os.path.exists('workspace'):\n",
    "    os.chdir('workspace')"
   ]
  },
  {
   "cell_type": "code",
   "execution_count": 2,
   "id": "7229b8f3-9ddf-406e-8c6f-1dbb52fe99e4",
   "metadata": {},
   "outputs": [
    {
     "name": "stdout",
     "output_type": "stream",
     "text": [
      "running on cuda\n"
     ]
    }
   ],
   "source": [
    "from src.dataset import *\n",
    "from src.utils import *\n",
    "from src.vizutils import *\n",
    "from src.IAP_model import get_total_criterion\n",
    "\n",
    "import os\n",
    "import random\n",
    "from tqdm import tqdm\n",
    "import datetime\n",
    "\n",
    "# torch\n",
    "import torch\n",
    "from torch import nn\n",
    "from torchvision import transforms\n",
    "from torchvision.models import resnet18\n",
    "\n",
    "# GPUs\n",
    "device_ids = [1] # indices of devices for models, data and otherwise\n",
    "os.environ['CUDA_VISIBLE_DEVICES'] = ','.join(str(i) for i in device_ids)\n",
    "device = torch.device(\"cuda\" if torch.cuda.is_available() else \"cpu\")\n",
    "use_cuda = torch.cuda.is_available()\n",
    "print('running on {}'.format(device))\n",
    "\n",
    "# set random seed\n",
    "seed = 1337\n",
    "random.seed(seed)\n",
    "torch.manual_seed(seed)\n",
    "torch.cuda.manual_seed_all(seed)"
   ]
  },
  {
   "cell_type": "code",
   "execution_count": 3,
   "id": "5ee1136d",
   "metadata": {},
   "outputs": [],
   "source": [
    "# data and model choice\n",
    "dataset_name = 'dbc_by_scanner'\n",
    "labeling = 'all'\n",
    "\n",
    "train_size = 10000\n",
    "val_size = 2000\n",
    "test_size = 2000\n",
    "\n",
    "model = resnet18\n",
    "\n",
    "checkpoint_paths = {\n",
    "}\n",
    "\n",
    "# training options\n",
    "train = True\n",
    "batch_size_factors = {\n",
    "          'resnet18' : 512\n",
    "}\n",
    "checkpoint_path_prev = None\n",
    "train_with_augmentations = False\n",
    "save_checkpoints = True\n",
    "checkpoint_setting = 'incremental'\n",
    "#checkpoint_setting = 'best'\n"
   ]
  },
  {
   "cell_type": "code",
   "execution_count": 4,
   "id": "2122dd42",
   "metadata": {},
   "outputs": [],
   "source": [
    "# option for other experiments\n",
    "test_this_IAP_only = None"
   ]
  },
  {
   "cell_type": "code",
   "execution_count": 5,
   "id": "b3510f3e",
   "metadata": {},
   "outputs": [
    {
     "name": "stdout",
     "output_type": "stream",
     "text": [
      "using non-default labeling: all\n",
      "there are missing features for 5 patients\n"
     ]
    },
    {
     "name": "stderr",
     "output_type": "stream",
     "text": [
      "/workspace/github_public/src/dataset.py:41: RuntimeWarning: invalid value encountered in divide\n",
      "  img = img.astype(float) * 255. / img.max()\n",
      "/workspace/github_public/src/dataset.py:43: RuntimeWarning: invalid value encountered in cast\n",
      "  img = img.astype(np.uint8)\n"
     ]
    }
   ],
   "source": [
    "# load dataset and loader (note: this will take a minute or so to run)\n",
    "img_size = 224\n",
    "train_batchsize = batch_size_factors[model.__name__] * len(device_ids)\n",
    "eval_batchsize = 64\n",
    "\n",
    "if train_with_augmentations:\n",
    "    train_transform = transforms.Compose([\n",
    "        transforms.RandomHorizontalFlip(),\n",
    "        transforms.RandomResizedCrop(size=img_size)\n",
    "    ])\n",
    "    print('training with augmentations')\n",
    "else:\n",
    "    train_transform = transforms.Compose([])\n",
    "\n",
    "trainset, valset, testset = get_datasets(dataset_name, \n",
    "                                train_size=train_size, \n",
    "                                val_size=val_size,\n",
    "                                test_size=test_size,\n",
    "                                labeling=labeling,\n",
    "                                return_filenames=True,\n",
    "                                different_cases_for_train_val_test=True,\n",
    "                                regress_dense_IAPs=True\n",
    "                            )\n",
    "\n",
    "\n",
    "trainloader = DataLoader(trainset, \n",
    "                        batch_size=train_batchsize, \n",
    "                        shuffle=True)\n",
    "valloader = DataLoader(valset, \n",
    "                    batch_size=eval_batchsize)\n",
    "testloader = DataLoader(testset, \n",
    "                    batch_size=eval_batchsize)"
   ]
  },
  {
   "cell_type": "code",
   "execution_count": null,
   "id": "1576e7f9",
   "metadata": {},
   "outputs": [
    {
     "name": "stdout",
     "output_type": "stream",
     "text": [
      "47\n"
     ]
    }
   ],
   "source": [
    "# load model\n",
    "net = model()\n",
    "# fix first lyr\n",
    "make_netinput_onechannel(net, model)\n",
    "\n",
    "try:\n",
    "    all_feature_names = trainset.dataset.dataset.all_feature_names\n",
    "except AttributeError:\n",
    "    all_feature_names = trainset.dataset.all_feature_names\n",
    "num_output_features = np.array(list(all_feature_names.values())).sum()\n",
    "print(num_output_features)\n",
    "change_num_output_features(net, model, num_output_features)\n",
    "\n",
    "net = net.to(device)\n",
    "net = torch.nn.DataParallel(net, device_ids = range(len(device_ids)))"
   ]
  },
  {
   "cell_type": "code",
   "execution_count": null,
   "id": "96e16c9d",
   "metadata": {},
   "outputs": [],
   "source": [
    "# set up custom loss\n",
    "total_criterion = get_total_criterion(all_feature_names, device)"
   ]
  },
  {
   "cell_type": "code",
   "execution_count": null,
   "id": "86ad684e",
   "metadata": {},
   "outputs": [
    {
     "name": "stdout",
     "output_type": "stream",
     "text": [
      "Epoch 0:\n"
     ]
    },
    {
     "name": "stderr",
     "output_type": "stream",
     "text": [
      "40it [01:16,  1.91s/it]                                                                        \n"
     ]
    },
    {
     "name": "stdout",
     "output_type": "stream",
     "text": [
      "Training loss: 112117.1875\n",
      "02/12/2023, 19:29:00\n",
      "Validation...\n",
      "validation loss: 100422.0781\n",
      "validation metrics per feature:  {'Manufacturer': 0.6617943548387096, 'Manufacturer Model Name': 0.2908266129032258, 'Scan Options': 0.3855846774193548, 'Patient Position During MRI': 0.8175403225806451, 'Field Strength (Tesla)': 0.4586693548387097, 'Contrast Agent': 0.5942540322580645, 'Acquisition Matrix': 0.28931451612903225, 'Slice Thickness ': 0.21339766440852995, 'Flip Angle \\n': 6.710176298695226, 'FOV Computed (Field of View) in cm ': 100406.08896169355, 'TE (Echo Time)': 0.3030691146850586, 'TR (Repetition Time)': 0.7886245500656867} \n",
      "\n",
      "Saving ...\n",
      "Epoch 1:\n"
     ]
    },
    {
     "name": "stderr",
     "output_type": "stream",
     "text": [
      "40it [01:11,  1.80s/it]                                                                        \n"
     ]
    },
    {
     "name": "stdout",
     "output_type": "stream",
     "text": [
      "Training loss: 90209.4766\n",
      "02/12/2023, 19:30:26\n",
      "Validation...\n",
      "validation loss: 72842.9219\n",
      "validation metrics per feature:  {'Manufacturer': 0.626008064516129, 'Manufacturer Model Name': 0.32711693548387094, 'Scan Options': 0.3125, 'Patient Position During MRI': 0.8155241935483871, 'Field Strength (Tesla)': 0.5352822580645161, 'Contrast Agent': 0.5942540322580645, 'Acquisition Matrix': 0.2782258064516129, 'Slice Thickness ': 0.19173745618712518, 'Flip Angle \\n': 0.9044667020920785, 'FOV Computed (Field of View) in cm ': 72832.64868951614, 'TE (Echo Time)': 0.3087952665744289, 'TR (Repetition Time)': 0.7191014068741952} \n",
      "\n",
      "Epoch 2:\n"
     ]
    },
    {
     "name": "stderr",
     "output_type": "stream",
     "text": [
      "40it [00:18,  2.18it/s]                                                                        \n"
     ]
    },
    {
     "name": "stdout",
     "output_type": "stream",
     "text": [
      "Training loss: 63841.6016\n",
      "02/12/2023, 19:30:47\n",
      "Validation...\n",
      "validation loss: 43766.0273\n",
      "validation metrics per feature:  {'Manufacturer': 0.7046370967741935, 'Manufacturer Model Name': 0.33518145161290325, 'Scan Options': 0.44002016129032256, 'Patient Position During MRI': 0.8175403225806451, 'Field Strength (Tesla)': 0.5473790322580645, 'Contrast Agent': 0.5942540322580645, 'Acquisition Matrix': 0.3064516129032258, 'Slice Thickness ': 0.18530136250680493, 'Flip Angle \\n': 1.4768877337055821, 'FOV Computed (Field of View) in cm ': 43755.62726814516, 'TE (Echo Time)': 0.2959379688385994, 'TR (Repetition Time)': 0.7352878634006746} \n",
      "\n",
      "Epoch 3:\n"
     ]
    },
    {
     "name": "stderr",
     "output_type": "stream",
     "text": [
      "40it [00:17,  2.27it/s]                                                                        \n"
     ]
    },
    {
     "name": "stdout",
     "output_type": "stream",
     "text": [
      "Training loss: 40357.8555\n",
      "02/12/2023, 19:31:08\n",
      "Validation...\n",
      "validation loss: 27839.1230\n",
      "validation metrics per feature:  {'Manufacturer': 0.719758064516129, 'Manufacturer Model Name': 0.31149193548387094, 'Scan Options': 0.45161290322580644, 'Patient Position During MRI': 0.8175403225806451, 'Field Strength (Tesla)': 0.5544354838709677, 'Contrast Agent': 0.5942540322580645, 'Acquisition Matrix': 0.3336693548387097, 'Slice Thickness ': 0.17932298587214562, 'Flip Angle \\n': 0.4419331877462326, 'FOV Computed (Field of View) in cm ': 27830.39566532258, 'TE (Echo Time)': 0.21943541832508578, 'TR (Repetition Time)': 0.46294391059106393} \n",
      "\n",
      "Epoch 4:\n"
     ]
    },
    {
     "name": "stderr",
     "output_type": "stream",
     "text": [
      "40it [00:18,  2.17it/s]                                                                        \n"
     ]
    },
    {
     "name": "stdout",
     "output_type": "stream",
     "text": [
      "Training loss: 22409.0137\n",
      "02/12/2023, 19:31:30\n",
      "Validation...\n",
      "validation loss: 12060.7002\n",
      "validation metrics per feature:  {'Manufacturer': 0.7242943548387096, 'Manufacturer Model Name': 0.3160282258064516, 'Scan Options': 0.4591733870967742, 'Patient Position During MRI': 0.8180443548387096, 'Field Strength (Tesla)': 0.4803427419354839, 'Contrast Agent': 0.59375, 'Acquisition Matrix': 0.3276209677419355, 'Slice Thickness ': 0.19333563408543986, 'Flip Angle \\n': 0.6875493286117431, 'FOV Computed (Field of View) in cm ': 12051.52157888105, 'TE (Echo Time)': 0.23953786973030336, 'TR (Repetition Time)': 0.5634482454869055} \n",
      "\n",
      "Epoch 5:\n"
     ]
    },
    {
     "name": "stderr",
     "output_type": "stream",
     "text": [
      "40it [00:17,  2.27it/s]                                                                        \n"
     ]
    },
    {
     "name": "stdout",
     "output_type": "stream",
     "text": [
      "Training loss: 10616.9990\n",
      "02/12/2023, 19:31:51\n",
      "Validation...\n",
      "validation loss: 8362.1309\n",
      "validation metrics per feature:  {'Manufacturer': 0.703125, 'Manufacturer Model Name': 0.3472782258064516, 'Scan Options': 0.4652217741935484, 'Patient Position During MRI': 0.8175403225806451, 'Field Strength (Tesla)': 0.5534274193548387, 'Contrast Agent': 0.5942540322580645, 'Acquisition Matrix': 0.31502016129032256, 'Slice Thickness ': 0.19073639521675725, 'Flip Angle \\n': 0.5090710886063115, 'FOV Computed (Field of View) in cm ': 8352.841781123992, 'TE (Echo Time)': 0.2665173247937233, 'TR (Repetition Time)': 0.6640432486611028} \n",
      "\n",
      "Saving ...\n",
      "Epoch 6:\n"
     ]
    },
    {
     "name": "stderr",
     "output_type": "stream",
     "text": [
      "40it [00:17,  2.27it/s]                                                                        \n"
     ]
    },
    {
     "name": "stdout",
     "output_type": "stream",
     "text": [
      "Training loss: 4220.8799\n",
      "02/12/2023, 19:32:12\n",
      "Validation...\n",
      "validation loss: 2540.6025\n",
      "validation metrics per feature:  {'Manufacturer': 0.7036290322580645, 'Manufacturer Model Name': 0.3316532258064516, 'Scan Options': 0.4339717741935484, 'Patient Position During MRI': 0.8175403225806451, 'Field Strength (Tesla)': 0.5070564516129032, 'Contrast Agent': 0.6018145161290323, 'Acquisition Matrix': 0.34223790322580644, 'Slice Thickness ': 0.19384177077201106, 'Flip Angle \\n': 0.3904140019609082, 'FOV Computed (Field of View) in cm ': 2531.5604366179437, 'TE (Echo Time)': 0.2811683416366577, 'TR (Repetition Time)': 0.6334994839083764} \n",
      "\n",
      "Epoch 7:\n"
     ]
    },
    {
     "name": "stderr",
     "output_type": "stream",
     "text": [
      "40it [00:17,  2.27it/s]                                                                        \n"
     ]
    },
    {
     "name": "stdout",
     "output_type": "stream",
     "text": [
      "Training loss: 1437.5604\n",
      "02/12/2023, 19:32:33\n",
      "Validation...\n",
      "validation loss: 766.8620\n",
      "validation metrics per feature:  {'Manufacturer': 0.7373991935483871, 'Manufacturer Model Name': 0.3225806451612903, 'Scan Options': 0.5020161290322581, 'Patient Position During MRI': 0.8175403225806451, 'Field Strength (Tesla)': 0.6144153225806451, 'Contrast Agent': 0.594758064516129, 'Acquisition Matrix': 0.3276209677419355, 'Slice Thickness ': 0.18405797308491123, 'Flip Angle \\n': 0.4691264682239102, 'FOV Computed (Field of View) in cm ': 758.2797497164819, 'TE (Echo Time)': 0.19987327581451786, 'TR (Repetition Time)': 0.5019971689870281} \n",
      "\n",
      "Epoch 8:\n"
     ]
    },
    {
     "name": "stderr",
     "output_type": "stream",
     "text": [
      "40it [00:17,  2.32it/s]                                                                        \n"
     ]
    },
    {
     "name": "stdout",
     "output_type": "stream",
     "text": [
      "Training loss: 475.5109\n",
      "02/12/2023, 19:32:54\n",
      "Validation...\n",
      "validation loss: 262.7412\n",
      "validation metrics per feature:  {'Manufacturer': 0.7550403225806451, 'Manufacturer Model Name': 0.29838709677419356, 'Scan Options': 0.46622983870967744, 'Patient Position During MRI': 0.8175403225806451, 'Field Strength (Tesla)': 0.5957661290322581, 'Contrast Agent': 0.6013104838709677, 'Acquisition Matrix': 0.2918346774193548, 'Slice Thickness ': 0.19501409847890178, 'Flip Angle \\n': 0.4035825541903896, 'FOV Computed (Field of View) in cm ': 254.06281059019028, 'TE (Echo Time)': 0.2190972335876957, 'TR (Repetition Time)': 0.49407794494782725} \n",
      "\n",
      "Epoch 9:\n"
     ]
    },
    {
     "name": "stderr",
     "output_type": "stream",
     "text": [
      "40it [00:17,  2.31it/s]                                                                        \n"
     ]
    },
    {
     "name": "stdout",
     "output_type": "stream",
     "text": [
      "Training loss: 187.7739\n",
      "02/12/2023, 19:33:15\n",
      "Validation...\n",
      "validation loss: 193.1189\n",
      "validation metrics per feature:  {'Manufacturer': 0.7363911290322581, 'Manufacturer Model Name': 0.3180443548387097, 'Scan Options': 0.42389112903225806, 'Patient Position During MRI': 0.8175403225806451, 'Field Strength (Tesla)': 0.5962701612903226, 'Contrast Agent': 0.6123991935483871, 'Acquisition Matrix': 0.29889112903225806, 'Slice Thickness ': 0.1850321787980295, 'Flip Angle \\n': 0.37434947827169973, 'FOV Computed (Field of View) in cm ': 184.43835104665447, 'TE (Echo Time)': 0.22808123932730767, 'TR (Repetition Time)': 0.49236417585803616} \n",
      "\n",
      "Epoch 10:\n"
     ]
    },
    {
     "name": "stderr",
     "output_type": "stream",
     "text": [
      "40it [00:17,  2.31it/s]                                                                        \n"
     ]
    },
    {
     "name": "stdout",
     "output_type": "stream",
     "text": [
      "Training loss: 124.8862\n",
      "02/12/2023, 19:33:35\n",
      "Validation...\n",
      "validation loss: 292.1120\n",
      "validation metrics per feature:  {'Manufacturer': 0.7086693548387096, 'Manufacturer Model Name': 0.3004032258064516, 'Scan Options': 0.3744959677419355, 'Patient Position During MRI': 0.8175403225806451, 'Field Strength (Tesla)': 0.4561491935483871, 'Contrast Agent': 0.5982862903225806, 'Acquisition Matrix': 0.31350806451612906, 'Slice Thickness ': 0.19374155902093457, 'Flip Angle \\n': 0.356111331812797, 'FOV Computed (Field of View) in cm ': 283.26063193044354, 'TE (Echo Time)': 0.2610204215011289, 'TR (Repetition Time)': 0.492916323484913} \n",
      "\n",
      "Saving ...\n",
      "Epoch 11:\n"
     ]
    },
    {
     "name": "stderr",
     "output_type": "stream",
     "text": [
      "40it [00:17,  2.26it/s]                                                                        \n"
     ]
    },
    {
     "name": "stdout",
     "output_type": "stream",
     "text": [
      "Training loss: 95.4595\n",
      "02/12/2023, 19:33:56\n",
      "Validation...\n",
      "validation loss: 176.2319\n",
      "validation metrics per feature:  {'Manufacturer': 0.7464717741935484, 'Manufacturer Model Name': 0.3235887096774194, 'Scan Options': 0.5045362903225806, 'Patient Position During MRI': 0.7943548387096774, 'Field Strength (Tesla)': 0.5715725806451613, 'Contrast Agent': 0.6139112903225806, 'Acquisition Matrix': 0.3382056451612903, 'Slice Thickness ': 0.18530950334764296, 'Flip Angle \\n': 0.2778296619653702, 'FOV Computed (Field of View) in cm ': 167.71748868880732, 'TE (Echo Time)': 0.22318729085306968, 'TR (Repetition Time)': 0.4762234149440642} \n",
      "\n",
      "Epoch 12:\n"
     ]
    },
    {
     "name": "stderr",
     "output_type": "stream",
     "text": [
      "40it [00:17,  2.29it/s]                                                                        \n"
     ]
    },
    {
     "name": "stdout",
     "output_type": "stream",
     "text": [
      "Training loss: 82.8364\n",
      "02/12/2023, 19:34:17\n",
      "Validation...\n",
      "validation loss: 188.1381\n",
      "validation metrics per feature:  {'Manufacturer': 0.7268145161290323, 'Manufacturer Model Name': 0.3185483870967742, 'Scan Options': 0.3689516129032258, 'Patient Position During MRI': 0.8175403225806451, 'Field Strength (Tesla)': 0.5866935483870968, 'Contrast Agent': 0.592741935483871, 'Acquisition Matrix': 0.31451612903225806, 'Slice Thickness ': 0.17661452918283402, 'Flip Angle \\n': 0.27917780174363044, 'FOV Computed (Field of View) in cm ': 179.73011976672757, 'TE (Echo Time)': 0.19529909183902125, 'TR (Repetition Time)': 0.4258570084648748} \n",
      "\n",
      "Epoch 13:\n"
     ]
    },
    {
     "name": "stderr",
     "output_type": "stream",
     "text": [
      "40it [00:17,  2.24it/s]                                                                        \n"
     ]
    },
    {
     "name": "stdout",
     "output_type": "stream",
     "text": [
      "Training loss: 64.4602\n",
      "02/12/2023, 19:34:38\n",
      "Validation...\n",
      "validation loss: 192.7180\n",
      "validation metrics per feature:  {'Manufacturer': 0.7368951612903226, 'Manufacturer Model Name': 0.3064516129032258, 'Scan Options': 0.3588709677419355, 'Patient Position During MRI': 0.8200604838709677, 'Field Strength (Tesla)': 0.6421370967741935, 'Contrast Agent': 0.6179435483870968, 'Acquisition Matrix': 0.3125, 'Slice Thickness ': 0.19029752910137177, 'Flip Angle \\n': 0.24484750868812685, 'FOV Computed (Field of View) in cm ': 184.2988788235572, 'TE (Echo Time)': 0.2229880796324822, 'TR (Repetition Time)': 0.4279952347278595} \n",
      "\n",
      "Epoch 14:\n"
     ]
    },
    {
     "name": "stderr",
     "output_type": "stream",
     "text": [
      "40it [00:17,  2.27it/s]                                                                        \n"
     ]
    },
    {
     "name": "stdout",
     "output_type": "stream",
     "text": [
      "Training loss: 51.5206\n",
      "02/12/2023, 19:34:59\n",
      "Validation...\n",
      "validation loss: 273.8195\n",
      "validation metrics per feature:  {'Manufacturer': 0.7585685483870968, 'Manufacturer Model Name': 0.3795362903225806, 'Scan Options': 0.46774193548387094, 'Patient Position During MRI': 0.8195564516129032, 'Field Strength (Tesla)': 0.6164314516129032, 'Contrast Agent': 0.6164314516129032, 'Acquisition Matrix': 0.3654233870967742, 'Slice Thickness ': 0.16891704884267622, 'Flip Angle \\n': 0.2288613762826689, 'FOV Computed (Field of View) in cm ': 265.7845335929625, 'TE (Echo Time)': 0.16142281313096324, 'TR (Repetition Time)': 0.3749948413141312} \n",
      "\n",
      "Epoch 15:\n"
     ]
    },
    {
     "name": "stderr",
     "output_type": "stream",
     "text": [
      "40it [00:18,  2.15it/s]                                                                        \n"
     ]
    },
    {
     "name": "stdout",
     "output_type": "stream",
     "text": [
      "Training loss: 47.8010\n",
      "02/12/2023, 19:35:21\n",
      "Validation...\n",
      "validation loss: 174.0723\n",
      "validation metrics per feature:  {'Manufacturer': 0.7338709677419355, 'Manufacturer Model Name': 0.3326612903225806, 'Scan Options': 0.5015120967741935, 'Patient Position During MRI': 0.8155241935483871, 'Field Strength (Tesla)': 0.6048387096774194, 'Contrast Agent': 0.6134072580645161, 'Acquisition Matrix': 0.39868951612903225, 'Slice Thickness ': 0.1783812834370521, 'Flip Angle \\n': 0.16249235578241847, 'FOV Computed (Field of View) in cm ': 166.21538814421623, 'TE (Echo Time)': 0.14423281651350758, 'TR (Repetition Time)': 0.34850860026574904} \n",
      "\n",
      "Saving ...\n",
      "Epoch 16:\n"
     ]
    },
    {
     "name": "stderr",
     "output_type": "stream",
     "text": [
      "40it [00:18,  2.17it/s]                                                                        \n"
     ]
    },
    {
     "name": "stdout",
     "output_type": "stream",
     "text": [
      "Training loss: 34.5625\n",
      "02/12/2023, 19:35:43\n",
      "Validation...\n",
      "validation loss: 156.2967\n",
      "validation metrics per feature:  {'Manufacturer': 0.7132056451612904, 'Manufacturer Model Name': 0.3795362903225806, 'Scan Options': 0.4793346774193548, 'Patient Position During MRI': 0.8240927419354839, 'Field Strength (Tesla)': 0.6502016129032258, 'Contrast Agent': 0.5967741935483871, 'Acquisition Matrix': 0.3316532258064516, 'Slice Thickness ': 0.16422317874047063, 'Flip Angle \\n': 0.14940097300155508, 'FOV Computed (Field of View) in cm ': 148.7878162014869, 'TE (Echo Time)': 0.10541491787279805, 'TR (Repetition Time)': 0.30494996905326843} \n",
      "\n",
      "Epoch 17:\n"
     ]
    },
    {
     "name": "stderr",
     "output_type": "stream",
     "text": [
      "40it [00:17,  2.24it/s]                                                                        \n"
     ]
    },
    {
     "name": "stdout",
     "output_type": "stream",
     "text": [
      "Training loss: 27.3225\n",
      "02/12/2023, 19:36:04\n",
      "Validation...\n",
      "validation loss: 184.3458\n",
      "validation metrics per feature:  {'Manufacturer': 0.9264112903225806, 'Manufacturer Model Name': 0.48235887096774194, 'Scan Options': 0.484375, 'Patient Position During MRI': 0.8175403225806451, 'Field Strength (Tesla)': 0.5453629032258065, 'Contrast Agent': 0.5987903225806451, 'Acquisition Matrix': 0.46169354838709675, 'Slice Thickness ': 0.1632574671699155, 'Flip Angle \\n': 0.13381936270443182, 'FOV Computed (Field of View) in cm ': 177.14945934664817, 'TE (Echo Time)': 0.07657021260069262, 'TR (Repetition Time)': 0.24943373953142473} \n",
      "\n",
      "Epoch 18:\n"
     ]
    },
    {
     "name": "stderr",
     "output_type": "stream",
     "text": [
      "40it [00:18,  2.22it/s]                                                                        \n"
     ]
    },
    {
     "name": "stdout",
     "output_type": "stream",
     "text": [
      "Training loss: 25.7459\n",
      "02/12/2023, 19:36:25\n",
      "Validation...\n",
      "validation loss: 193.6537\n",
      "validation metrics per feature:  {'Manufacturer': 0.9601814516129032, 'Manufacturer Model Name': 0.49747983870967744, 'Scan Options': 0.5826612903225806, 'Patient Position During MRI': 0.8185483870967742, 'Field Strength (Tesla)': 0.6088709677419355, 'Contrast Agent': 0.5917338709677419, 'Acquisition Matrix': 0.5055443548387096, 'Slice Thickness ': 0.16163337735399122, 'Flip Angle \\n': 0.13200762219006015, 'FOV Computed (Field of View) in cm ': 187.03895101239604, 'TE (Echo Time)': 0.040899151755917455, 'TR (Repetition Time)': 0.20486859881108807} \n",
      "\n",
      "Epoch 19:\n"
     ]
    },
    {
     "name": "stderr",
     "output_type": "stream",
     "text": [
      "40it [00:17,  2.27it/s]                                                                        \n"
     ]
    },
    {
     "name": "stdout",
     "output_type": "stream",
     "text": [
      "Training loss: 25.3500\n",
      "02/12/2023, 19:36:47\n",
      "Validation...\n",
      "validation loss: 170.8537\n",
      "validation metrics per feature:  {'Manufacturer': 0.9375, 'Manufacturer Model Name': 0.5564516129032258, 'Scan Options': 0.6663306451612904, 'Patient Position During MRI': 0.8145161290322581, 'Field Strength (Tesla)': 0.6854838709677419, 'Contrast Agent': 0.5942540322580645, 'Acquisition Matrix': 0.5040322580645161, 'Slice Thickness ': 0.17263886861262784, 'Flip Angle \\n': 0.1260592276530881, 'FOV Computed (Field of View) in cm ': 164.29106164747668, 'TE (Echo Time)': 0.15668860029789708, 'TR (Repetition Time)': 0.182072852167391} \n",
      "\n",
      "Epoch 20:\n"
     ]
    },
    {
     "name": "stderr",
     "output_type": "stream",
     "text": [
      "40it [00:18,  2.22it/s]                                                                        \n"
     ]
    },
    {
     "name": "stdout",
     "output_type": "stream",
     "text": [
      "Training loss: 22.9446\n",
      "02/12/2023, 19:37:08\n",
      "Validation...\n",
      "validation loss: 181.5754\n",
      "validation metrics per feature:  {'Manufacturer': 0.9576612903225806, 'Manufacturer Model Name': 0.514616935483871, 'Scan Options': 0.6547379032258065, 'Patient Position During MRI': 0.8286290322580645, 'Field Strength (Tesla)': 0.6290322580645161, 'Contrast Agent': 0.5932459677419355, 'Acquisition Matrix': 0.5030241935483871, 'Slice Thickness ': 0.15711621651726385, 'Flip Angle \\n': 0.12271876233599839, 'FOV Computed (Field of View) in cm ': 175.4272692280431, 'TE (Echo Time)': 0.03846871870900354, 'TR (Repetition Time)': 0.14983979492418228} \n",
      "\n",
      "Saving ...\n",
      "Epoch 21:\n"
     ]
    },
    {
     "name": "stderr",
     "output_type": "stream",
     "text": [
      "40it [00:17,  2.26it/s]                                                                        \n"
     ]
    },
    {
     "name": "stdout",
     "output_type": "stream",
     "text": [
      "Training loss: 17.4428\n",
      "02/12/2023, 19:37:29\n",
      "Validation...\n",
      "validation loss: 166.2742\n",
      "validation metrics per feature:  {'Manufacturer': 0.9763104838709677, 'Manufacturer Model Name': 0.5897177419354839, 'Scan Options': 0.6517137096774194, 'Patient Position During MRI': 0.8125, 'Field Strength (Tesla)': 0.6633064516129032, 'Contrast Agent': 0.5897177419354839, 'Acquisition Matrix': 0.5241935483870968, 'Slice Thickness ': 0.15809809560737303, 'Flip Angle \\n': 0.11808529394047876, 'FOV Computed (Field of View) in cm ': 160.4201163015058, 'TE (Echo Time)': 0.03205563692796615, 'TR (Repetition Time)': 0.15780969084270538} \n",
      "\n",
      "Epoch 22:\n"
     ]
    },
    {
     "name": "stderr",
     "output_type": "stream",
     "text": [
      "40it [00:18,  2.19it/s]                                                                        \n"
     ]
    },
    {
     "name": "stdout",
     "output_type": "stream",
     "text": [
      "Training loss: 15.0988\n",
      "02/12/2023, 19:37:51\n",
      "Validation...\n",
      "validation loss: 158.1134\n",
      "validation metrics per feature:  {'Manufacturer': 0.9742943548387096, 'Manufacturer Model Name': 0.5952620967741935, 'Scan Options': 0.6703629032258065, 'Patient Position During MRI': 0.8810483870967742, 'Field Strength (Tesla)': 0.6668346774193549, 'Contrast Agent': 0.5766129032258065, 'Acquisition Matrix': 0.5100806451612904, 'Slice Thickness ': 0.18430188778908022, 'Flip Angle \\n': 0.11848030356510032, 'FOV Computed (Field of View) in cm ': 152.55157396870274, 'TE (Echo Time)': 0.026110908677501064, 'TR (Repetition Time)': 0.1376033507047161} \n",
      "\n",
      "Epoch 23:\n"
     ]
    },
    {
     "name": "stderr",
     "output_type": "stream",
     "text": [
      "40it [00:17,  2.24it/s]                                                                        \n"
     ]
    },
    {
     "name": "stdout",
     "output_type": "stream",
     "text": [
      "Training loss: 13.5732\n",
      "02/12/2023, 19:38:12\n",
      "Validation...\n",
      "validation loss: 163.4642\n",
      "validation metrics per feature:  {'Manufacturer': 0.9758064516129032, 'Manufacturer Model Name': 0.5751008064516129, 'Scan Options': 0.6678427419354839, 'Patient Position During MRI': 0.8795362903225806, 'Field Strength (Tesla)': 0.6461693548387096, 'Contrast Agent': 0.5751008064516129, 'Acquisition Matrix': 0.5085685483870968, 'Slice Thickness ': 0.1591086555873194, 'Flip Angle \\n': 0.11990606295125138, 'FOV Computed (Field of View) in cm ': 157.95945222916143, 'TE (Echo Time)': 0.030434476812520334, 'TR (Repetition Time)': 0.171008761611677} \n",
      "\n",
      "Epoch 24:\n"
     ]
    },
    {
     "name": "stderr",
     "output_type": "stream",
     "text": [
      "40it [00:17,  2.31it/s]                                                                        \n"
     ]
    },
    {
     "name": "stdout",
     "output_type": "stream",
     "text": [
      "Training loss: 15.5069\n",
      "02/12/2023, 19:38:33\n",
      "Validation...\n",
      "validation loss: 158.8168\n",
      "validation metrics per feature:  {'Manufacturer': 0.9763104838709677, 'Manufacturer Model Name': 0.6179435483870968, 'Scan Options': 0.7116935483870968, 'Patient Position During MRI': 0.8835685483870968, 'Field Strength (Tesla)': 0.7137096774193549, 'Contrast Agent': 0.5690524193548387, 'Acquisition Matrix': 0.5236895161290323, 'Slice Thickness ': 0.15293474591547443, 'Flip Angle \\n': 0.11710559522673007, 'FOV Computed (Field of View) in cm ': 153.55280402398878, 'TE (Echo Time)': 0.0201513641964524, 'TR (Repetition Time)': 0.12096582449251606} \n",
      "\n",
      "Epoch 25:\n"
     ]
    },
    {
     "name": "stderr",
     "output_type": "stream",
     "text": [
      "40it [00:18,  2.17it/s]                                                                        \n"
     ]
    },
    {
     "name": "stdout",
     "output_type": "stream",
     "text": [
      "Training loss: 14.5383\n",
      "02/12/2023, 19:38:54\n",
      "Validation...\n",
      "validation loss: 186.4299\n",
      "validation metrics per feature:  {'Manufacturer': 0.9702620967741935, 'Manufacturer Model Name': 0.6003024193548387, 'Scan Options': 0.703125, 'Patient Position During MRI': 0.8457661290322581, 'Field Strength (Tesla)': 0.6189516129032258, 'Contrast Agent': 0.5806451612903226, 'Acquisition Matrix': 0.5211693548387096, 'Slice Thickness ': 0.17222313054146304, 'Flip Angle \\n': 0.13519487566044253, 'FOV Computed (Field of View) in cm ': 180.8073996267011, 'TE (Echo Time)': 0.07994844764471054, 'TR (Repetition Time)': 0.21195469315974944} \n",
      "\n",
      "Saving ...\n",
      "Epoch 26:\n"
     ]
    },
    {
     "name": "stderr",
     "output_type": "stream",
     "text": [
      "40it [00:17,  2.30it/s]                                                                        \n"
     ]
    },
    {
     "name": "stdout",
     "output_type": "stream",
     "text": [
      "Training loss: 16.4401\n",
      "02/12/2023, 19:39:15\n",
      "Validation...\n",
      "validation loss: 160.6231\n",
      "validation metrics per feature:  {'Manufacturer': 0.9778225806451613, 'Manufacturer Model Name': 0.6174395161290323, 'Scan Options': 0.7242943548387096, 'Patient Position During MRI': 0.8513104838709677, 'Field Strength (Tesla)': 0.7192540322580645, 'Contrast Agent': 0.5730846774193549, 'Acquisition Matrix': 0.5236895161290323, 'Slice Thickness ': 0.15465220929153503, 'Flip Angle \\n': 0.11753293120812985, 'FOV Computed (Field of View) in cm ': 155.3675807829826, 'TE (Echo Time)': 0.021515097168664777, 'TR (Repetition Time)': 0.12866538258329516} \n",
      "\n",
      "Epoch 27:\n"
     ]
    },
    {
     "name": "stderr",
     "output_type": "stream",
     "text": [
      "40it [00:17,  2.33it/s]                                                                        \n"
     ]
    },
    {
     "name": "stdout",
     "output_type": "stream",
     "text": [
      "Training loss: 15.9434\n",
      "02/12/2023, 19:39:36\n",
      "Validation...\n",
      "validation loss: 161.6004\n",
      "validation metrics per feature:  {'Manufacturer': 0.9778225806451613, 'Manufacturer Model Name': 0.5821572580645161, 'Scan Options': 0.7212701612903226, 'Patient Position During MRI': 0.8694556451612904, 'Field Strength (Tesla)': 0.6446572580645161, 'Contrast Agent': 0.5695564516129032, 'Acquisition Matrix': 0.5025201612903226, 'Slice Thickness ': 0.15297856518337805, 'Flip Angle \\n': 0.11956204642211238, 'FOV Computed (Field of View) in cm ': 156.36619174095893, 'TE (Echo Time)': 0.01921748048475673, 'TR (Repetition Time)': 0.15532416874362576} \n",
      "\n",
      "Epoch 28:\n"
     ]
    },
    {
     "name": "stderr",
     "output_type": "stream",
     "text": [
      "40it [00:17,  2.24it/s]                                                                        \n"
     ]
    },
    {
     "name": "stdout",
     "output_type": "stream",
     "text": [
      "Training loss: 14.6303\n",
      "02/12/2023, 19:39:57\n",
      "Validation...\n",
      "validation loss: 168.4012\n",
      "validation metrics per feature:  {'Manufacturer': 0.9778225806451613, 'Manufacturer Model Name': 0.5665322580645161, 'Scan Options': 0.7212701612903226, 'Patient Position During MRI': 0.8755040322580645, 'Field Strength (Tesla)': 0.7026209677419355, 'Contrast Agent': 0.5786290322580645, 'Acquisition Matrix': 0.5211693548387096, 'Slice Thickness ': 0.1528946069940444, 'Flip Angle \\n': 0.12134464187247138, 'FOV Computed (Field of View) in cm ': 163.2290536203692, 'TE (Echo Time)': 0.02092349688492475, 'TR (Repetition Time)': 0.15668688378026407} \n",
      "\n",
      "Epoch 29:\n"
     ]
    },
    {
     "name": "stderr",
     "output_type": "stream",
     "text": [
      "40it [00:17,  2.32it/s]                                                                        \n"
     ]
    },
    {
     "name": "stdout",
     "output_type": "stream",
     "text": [
      "Training loss: 14.0433\n",
      "02/12/2023, 19:40:18\n",
      "Validation...\n",
      "validation loss: 159.1373\n",
      "validation metrics per feature:  {'Manufacturer': 0.9768145161290323, 'Manufacturer Model Name': 0.5997983870967742, 'Scan Options': 0.6517137096774194, 'Patient Position During MRI': 0.8780241935483871, 'Field Strength (Tesla)': 0.671875, 'Contrast Agent': 0.5730846774193549, 'Acquisition Matrix': 0.5040322580645161, 'Slice Thickness ': 0.16738354727145163, 'Flip Angle \\n': 0.12132607592690375, 'FOV Computed (Field of View) in cm ': 153.88304212016445, 'TE (Echo Time)': 0.030947220001009204, 'TR (Repetition Time)': 0.12975200193543587} \n",
      "\n",
      "Epoch 30:\n"
     ]
    },
    {
     "name": "stderr",
     "output_type": "stream",
     "text": [
      "40it [00:18,  2.21it/s]                                                                        \n"
     ]
    },
    {
     "name": "stdout",
     "output_type": "stream",
     "text": [
      "Training loss: 12.6740\n",
      "02/12/2023, 19:40:39\n",
      "Validation...\n",
      "validation loss: 160.4667\n",
      "validation metrics per feature:  {'Manufacturer': 0.9778225806451613, 'Manufacturer Model Name': 0.6169354838709677, 'Scan Options': 0.7600806451612904, 'Patient Position During MRI': 0.8840725806451613, 'Field Strength (Tesla)': 0.7288306451612904, 'Contrast Agent': 0.5952620967741935, 'Acquisition Matrix': 0.5297379032258065, 'Slice Thickness ': 0.19644879045024996, 'Flip Angle \\n': 0.11769815951946282, 'FOV Computed (Field of View) in cm ': 155.43142897082913, 'TE (Echo Time)': 0.021390805922208295, 'TR (Repetition Time)': 0.11714321446995582} \n",
      "\n",
      "Saving ...\n",
      "Epoch 31:\n"
     ]
    },
    {
     "name": "stderr",
     "output_type": "stream",
     "text": [
      "40it [00:18,  2.14it/s]                                                                        \n"
     ]
    },
    {
     "name": "stdout",
     "output_type": "stream",
     "text": [
      "Training loss: 12.5673\n",
      "02/12/2023, 19:41:01\n",
      "Validation...\n",
      "validation loss: 169.8297\n",
      "validation metrics per feature:  {'Manufacturer': 0.9773185483870968, 'Manufacturer Model Name': 0.5619959677419355, 'Scan Options': 0.6048387096774194, 'Patient Position During MRI': 0.859375, 'Field Strength (Tesla)': 0.6849798387096774, 'Contrast Agent': 0.5871975806451613, 'Acquisition Matrix': 0.5413306451612904, 'Slice Thickness ': 0.1675880834940941, 'Flip Angle \\n': 0.12826637659342058, 'FOV Computed (Field of View) in cm ': 164.77933477586316, 'TE (Echo Time)': 0.04373692685077267, 'TR (Repetition Time)': 0.12299724175564704} \n",
      "\n",
      "Epoch 32:\n"
     ]
    },
    {
     "name": "stderr",
     "output_type": "stream",
     "text": [
      "40it [00:17,  2.25it/s]                                                                        \n"
     ]
    },
    {
     "name": "stdout",
     "output_type": "stream",
     "text": [
      "Training loss: 12.8516\n",
      "02/12/2023, 19:41:22\n",
      "Validation...\n",
      "validation loss: 169.2075\n",
      "validation metrics per feature:  {'Manufacturer': 0.9768145161290323, 'Manufacturer Model Name': 0.6169354838709677, 'Scan Options': 0.7762096774193549, 'Patient Position During MRI': 0.8573588709677419, 'Field Strength (Tesla)': 0.7615927419354839, 'Contrast Agent': 0.6068548387096774, 'Acquisition Matrix': 0.532258064516129, 'Slice Thickness ': 0.16692943438406913, 'Flip Angle \\n': 0.12938608604693605, 'FOV Computed (Field of View) in cm ': 164.2714336764428, 'TE (Echo Time)': 0.060536570366351836, 'TR (Repetition Time)': 0.1381859224169485} \n",
      "\n",
      "Epoch 33:\n"
     ]
    },
    {
     "name": "stderr",
     "output_type": "stream",
     "text": [
      "40it [00:17,  2.26it/s]                                                                        \n"
     ]
    },
    {
     "name": "stdout",
     "output_type": "stream",
     "text": [
      "Training loss: 12.3908\n",
      "02/12/2023, 19:41:43\n",
      "Validation...\n",
      "validation loss: 156.8597\n",
      "validation metrics per feature:  {'Manufacturer': 0.9778225806451613, 'Manufacturer Model Name': 0.670866935483871, 'Scan Options': 0.7016129032258065, 'Patient Position During MRI': 0.8825604838709677, 'Field Strength (Tesla)': 0.7011088709677419, 'Contrast Agent': 0.5806451612903226, 'Acquisition Matrix': 0.6038306451612904, 'Slice Thickness ': 0.15370897540161688, 'Flip Angle \\n': 0.11565343590994034, 'FOV Computed (Field of View) in cm ': 151.99337374779486, 'TE (Echo Time)': 0.09329977006681504, 'TR (Repetition Time)': 0.11524307247131102} \n",
      "\n",
      "Epoch 34:\n"
     ]
    },
    {
     "name": "stderr",
     "output_type": "stream",
     "text": [
      "40it [00:18,  2.19it/s]                                                                        \n"
     ]
    },
    {
     "name": "stdout",
     "output_type": "stream",
     "text": [
      "Training loss: 10.9860\n",
      "02/12/2023, 19:42:05\n",
      "Validation...\n",
      "validation loss: 158.0339\n",
      "validation metrics per feature:  {'Manufacturer': 0.9778225806451613, 'Manufacturer Model Name': 0.6673387096774194, 'Scan Options': 0.7434475806451613, 'Patient Position During MRI': 0.8825604838709677, 'Field Strength (Tesla)': 0.7731854838709677, 'Contrast Agent': 0.5766129032258065, 'Acquisition Matrix': 0.5826612903225806, 'Slice Thickness ': 0.15293786987181632, 'Flip Angle \\n': 0.1407339798827325, 'FOV Computed (Field of View) in cm ': 153.1915014943769, 'TE (Echo Time)': 0.03314287575983232, 'TR (Repetition Time)': 0.1420591206800553} \n",
      "\n",
      "Epoch 35:\n"
     ]
    },
    {
     "name": "stderr",
     "output_type": "stream",
     "text": [
      "40it [00:17,  2.24it/s]                                                                        \n"
     ]
    },
    {
     "name": "stdout",
     "output_type": "stream",
     "text": [
      "Training loss: 12.5668\n",
      "02/12/2023, 19:42:26\n",
      "Validation...\n",
      "validation loss: 156.1307\n",
      "validation metrics per feature:  {'Manufacturer': 0.9773185483870968, 'Manufacturer Model Name': 0.6123991935483871, 'Scan Options': 0.797883064516129, 'Patient Position During MRI': 0.8850806451612904, 'Field Strength (Tesla)': 0.7454637096774194, 'Contrast Agent': 0.59375, 'Acquisition Matrix': 0.5549395161290323, 'Slice Thickness ': 0.1517488927610459, 'Flip Angle \\n': 0.11322729734163131, 'FOV Computed (Field of View) in cm ': 151.29549063405682, 'TE (Echo Time)': 0.03779306172603561, 'TR (Repetition Time)': 0.18061580004230623} \n",
      "\n",
      "Saving ...\n",
      "Epoch 36:\n"
     ]
    },
    {
     "name": "stderr",
     "output_type": "stream",
     "text": [
      "40it [00:17,  2.22it/s]                                                                        \n"
     ]
    },
    {
     "name": "stdout",
     "output_type": "stream",
     "text": [
      "Training loss: 11.6667\n",
      "02/12/2023, 19:42:48\n",
      "Validation...\n",
      "validation loss: 164.9062\n",
      "validation metrics per feature:  {'Manufacturer': 0.9768145161290323, 'Manufacturer Model Name': 0.5756048387096774, 'Scan Options': 0.7424395161290323, 'Patient Position During MRI': 0.8911290322580645, 'Field Strength (Tesla)': 0.6804435483870968, 'Contrast Agent': 0.5786290322580645, 'Acquisition Matrix': 0.5493951612903226, 'Slice Thickness ': 0.19129311125124654, 'Flip Angle \\n': 0.1195164131180894, 'FOV Computed (Field of View) in cm ': 160.05446230980658, 'TE (Echo Time)': 0.028435567574154948, 'TR (Repetition Time)': 0.17049095274940615} \n",
      "\n",
      "Epoch 37:\n"
     ]
    },
    {
     "name": "stderr",
     "output_type": "stream",
     "text": [
      "40it [00:18,  2.18it/s]                                                                        \n"
     ]
    },
    {
     "name": "stdout",
     "output_type": "stream",
     "text": [
      "Training loss: 12.4354\n",
      "02/12/2023, 19:43:10\n",
      "Validation...\n",
      "validation loss: 163.7630\n",
      "validation metrics per feature:  {'Manufacturer': 0.9768145161290323, 'Manufacturer Model Name': 0.7036290322580645, 'Scan Options': 0.8175403225806451, 'Patient Position During MRI': 0.8855846774193549, 'Field Strength (Tesla)': 0.6507056451612904, 'Contrast Agent': 0.5922379032258065, 'Acquisition Matrix': 0.5720766129032258, 'Slice Thickness ': 0.15187048070853756, 'Flip Angle \\n': 0.11752122562498815, 'FOV Computed (Field of View) in cm ': 159.14744272539693, 'TE (Echo Time)': 0.03347914707997153, 'TR (Repetition Time)': 0.12309570682625617} \n",
      "\n",
      "Epoch 38:\n"
     ]
    },
    {
     "name": "stderr",
     "output_type": "stream",
     "text": [
      "40it [00:16,  2.35it/s]                                                                        \n"
     ]
    },
    {
     "name": "stdout",
     "output_type": "stream",
     "text": [
      "Training loss: 10.9182\n",
      "02/12/2023, 19:43:30\n",
      "Validation...\n",
      "validation loss: 174.8705\n",
      "validation metrics per feature:  {'Manufacturer': 0.9773185483870968, 'Manufacturer Model Name': 0.7263104838709677, 'Scan Options': 0.8145161290322581, 'Patient Position During MRI': 0.889616935483871, 'Field Strength (Tesla)': 0.7948588709677419, 'Contrast Agent': 0.5887096774193549, 'Acquisition Matrix': 0.6219758064516129, 'Slice Thickness ': 0.1503394085072702, 'Flip Angle \\n': 0.12030472750625303, 'FOV Computed (Field of View) in cm ': 170.5053216257403, 'TE (Echo Time)': 0.026612747730987686, 'TR (Repetition Time)': 0.12867408942791722} \n",
      "\n",
      "Epoch 39:\n"
     ]
    },
    {
     "name": "stderr",
     "output_type": "stream",
     "text": [
      "40it [00:17,  2.22it/s]                                                                        \n"
     ]
    },
    {
     "name": "stdout",
     "output_type": "stream",
     "text": [
      "Training loss: 12.8435\n",
      "02/12/2023, 19:43:51\n",
      "Validation...\n",
      "validation loss: 170.2262\n",
      "validation metrics per feature:  {'Manufacturer': 0.9778225806451613, 'Manufacturer Model Name': 0.7368951612903226, 'Scan Options': 0.8200604838709677, 'Patient Position During MRI': 0.890625, 'Field Strength (Tesla)': 0.8180443548387096, 'Contrast Agent': 0.5932459677419355, 'Acquisition Matrix': 0.6179435483870968, 'Slice Thickness ': 0.1688405534913463, 'Flip Angle \\n': 0.11940894708518059, 'FOV Computed (Field of View) in cm ': 165.55533944406818, 'TE (Echo Time)': 0.04021907453575442, 'TR (Repetition Time)': 0.14002753770159138} \n",
      "\n",
      "Epoch 40:\n"
     ]
    },
    {
     "name": "stderr",
     "output_type": "stream",
     "text": [
      "40it [00:18,  2.21it/s]                                                                        \n"
     ]
    },
    {
     "name": "stdout",
     "output_type": "stream",
     "text": [
      "Training loss: 14.1101\n",
      "02/12/2023, 19:44:13\n",
      "Validation...\n",
      "validation loss: 168.1128\n",
      "validation metrics per feature:  {'Manufacturer': 0.9747983870967742, 'Manufacturer Model Name': 0.7152217741935484, 'Scan Options': 0.8331653225806451, 'Patient Position During MRI': 0.8926411290322581, 'Field Strength (Tesla)': 0.8175403225806451, 'Contrast Agent': 0.5851814516129032, 'Acquisition Matrix': 0.6184475806451613, 'Slice Thickness ': 0.1511219802402681, 'Flip Angle \\n': 0.11460684420120332, 'FOV Computed (Field of View) in cm ': 163.7666480771957, 'TE (Echo Time)': 0.02866588238506548, 'TR (Repetition Time)': 0.14780993423154276} \n",
      "\n",
      "Saving ...\n",
      "Epoch 41:\n"
     ]
    },
    {
     "name": "stderr",
     "output_type": "stream",
     "text": [
      "40it [00:17,  2.23it/s]                                                                        \n"
     ]
    },
    {
     "name": "stdout",
     "output_type": "stream",
     "text": [
      "Training loss: 12.3304\n",
      "02/12/2023, 19:44:34\n",
      "Validation...\n",
      "validation loss: 176.2132\n",
      "validation metrics per feature:  {'Manufacturer': 0.9747983870967742, 'Manufacturer Model Name': 0.7137096774193549, 'Scan Options': 0.8266129032258065, 'Patient Position During MRI': 0.8926411290322581, 'Field Strength (Tesla)': 0.7797379032258065, 'Contrast Agent': 0.594758064516129, 'Acquisition Matrix': 0.5987903225806451, 'Slice Thickness ': 0.15116145726173155, 'Flip Angle \\n': 0.12288056350042743, 'FOV Computed (Field of View) in cm ': 171.94234245054184, 'TE (Echo Time)': 0.04335725103174486, 'TR (Repetition Time)': 0.14299981368164863} \n",
      "\n",
      "Epoch 42:\n"
     ]
    },
    {
     "name": "stderr",
     "output_type": "stream",
     "text": [
      "40it [00:17,  2.28it/s]                                                                        \n"
     ]
    },
    {
     "name": "stdout",
     "output_type": "stream",
     "text": [
      "Training loss: 11.6711\n",
      "02/12/2023, 19:44:55\n",
      "Validation...\n",
      "validation loss: 167.9354\n",
      "validation metrics per feature:  {'Manufacturer': 0.9773185483870968, 'Manufacturer Model Name': 0.7162298387096774, 'Scan Options': 0.8553427419354839, 'Patient Position During MRI': 0.8815524193548387, 'Field Strength (Tesla)': 0.828125, 'Contrast Agent': 0.5932459677419355, 'Acquisition Matrix': 0.625, 'Slice Thickness ': 0.15896517422891432, 'Flip Angle \\n': 0.11493703128109055, 'FOV Computed (Field of View) in cm ': 163.79730815272177, 'TE (Echo Time)': 0.026592466739877578, 'TR (Repetition Time)': 0.16044384144967602} \n",
      "\n",
      "Epoch 43:\n"
     ]
    },
    {
     "name": "stderr",
     "output_type": "stream",
     "text": [
      "40it [00:18,  2.22it/s]                                                                        \n"
     ]
    },
    {
     "name": "stdout",
     "output_type": "stream",
     "text": [
      "Training loss: 11.3224\n",
      "02/12/2023, 19:45:17\n",
      "Validation...\n",
      "validation loss: 199.9336\n",
      "validation metrics per feature:  {'Manufacturer': 0.9773185483870968, 'Manufacturer Model Name': 0.6905241935483871, 'Scan Options': 0.8412298387096774, 'Patient Position During MRI': 0.8911290322580645, 'Field Strength (Tesla)': 0.8054435483870968, 'Contrast Agent': 0.6068548387096774, 'Acquisition Matrix': 0.6088709677419355, 'Slice Thickness ': 0.16360600052341337, 'Flip Angle \\n': 0.11595799040890509, 'FOV Computed (Field of View) in cm ': 195.6668223719443, 'TE (Echo Time)': 0.030114154061002117, 'TR (Repetition Time)': 0.1386280687105271} \n",
      "\n",
      "Epoch 44:\n"
     ]
    },
    {
     "name": "stderr",
     "output_type": "stream",
     "text": [
      "40it [00:17,  2.26it/s]                                                                        \n"
     ]
    },
    {
     "name": "stdout",
     "output_type": "stream",
     "text": [
      "Training loss: 11.0099\n",
      "02/12/2023, 19:45:38\n",
      "Validation...\n",
      "validation loss: 156.9429\n",
      "validation metrics per feature:  {'Manufacturer': 0.9773185483870968, 'Manufacturer Model Name': 0.7600806451612904, 'Scan Options': 0.8770161290322581, 'Patient Position During MRI': 0.9012096774193549, 'Field Strength (Tesla)': 0.8205645161290323, 'Contrast Agent': 0.5977822580645161, 'Acquisition Matrix': 0.6023185483870968, 'Slice Thickness ': 0.15192922348937682, 'Flip Angle \\n': 0.11471225405412336, 'FOV Computed (Field of View) in cm ': 152.86818104405558, 'TE (Echo Time)': 0.03796112621503492, 'TR (Repetition Time)': 0.12346979687290807} \n",
      "\n",
      "Epoch 45:\n"
     ]
    },
    {
     "name": "stderr",
     "output_type": "stream",
     "text": [
      "40it [00:17,  2.25it/s]                                                                        \n"
     ]
    },
    {
     "name": "stdout",
     "output_type": "stream",
     "text": [
      "Training loss: 12.3858\n",
      "02/12/2023, 19:45:59\n",
      "Validation...\n",
      "validation loss: 164.9426\n",
      "validation metrics per feature:  {'Manufacturer': 0.9783266129032258, 'Manufacturer Model Name': 0.7429435483870968, 'Scan Options': 0.8573588709677419, 'Patient Position During MRI': 0.8971774193548387, 'Field Strength (Tesla)': 0.8377016129032258, 'Contrast Agent': 0.5992943548387096, 'Acquisition Matrix': 0.6189516129032258, 'Slice Thickness ': 0.15072800603605085, 'Flip Angle \\n': 0.11369295201955303, 'FOV Computed (Field of View) in cm ': 160.96576419953377, 'TE (Echo Time)': 0.020704672581726504, 'TR (Repetition Time)': 0.12795124827854096} \n",
      "\n",
      "Saving ...\n",
      "Epoch 46:\n"
     ]
    },
    {
     "name": "stderr",
     "output_type": "stream",
     "text": [
      "40it [00:17,  2.30it/s]                                                                        \n"
     ]
    },
    {
     "name": "stdout",
     "output_type": "stream",
     "text": [
      "Training loss: 11.3723\n",
      "02/12/2023, 19:46:20\n",
      "Validation...\n",
      "validation loss: 165.2011\n",
      "validation metrics per feature:  {'Manufacturer': 0.9753024193548387, 'Manufacturer Model Name': 0.7379032258064516, 'Scan Options': 0.8669354838709677, 'Patient Position During MRI': 0.9012096774193549, 'Field Strength (Tesla)': 0.8341733870967742, 'Contrast Agent': 0.6073588709677419, 'Acquisition Matrix': 0.6290322580645161, 'Slice Thickness ': 0.14768726619020586, 'Flip Angle \\n': 0.10807403363287449, 'FOV Computed (Field of View) in cm ': 161.32362587221206, 'TE (Echo Time)': 0.05629787594079971, 'TR (Repetition Time)': 0.14895712800564304} \n",
      "\n",
      "Epoch 47:\n"
     ]
    },
    {
     "name": "stderr",
     "output_type": "stream",
     "text": [
      "40it [00:17,  2.24it/s]                                                                        \n"
     ]
    },
    {
     "name": "stdout",
     "output_type": "stream",
     "text": [
      "Training loss: 11.1808\n",
      "02/12/2023, 19:46:41\n",
      "Validation...\n",
      "validation loss: 167.5244\n",
      "validation metrics per feature:  {'Manufacturer': 0.9717741935483871, 'Manufacturer Model Name': 0.7338709677419355, 'Scan Options': 0.8598790322580645, 'Patient Position During MRI': 0.8911290322580645, 'Field Strength (Tesla)': 0.8296370967741935, 'Contrast Agent': 0.6028225806451613, 'Acquisition Matrix': 0.6270161290322581, 'Slice Thickness ': 0.18161795168153702, 'Flip Angle \\n': 0.10873245333711948, 'FOV Computed (Field of View) in cm ': 163.624140339513, 'TE (Echo Time)': 0.016605452814650153, 'TR (Repetition Time)': 0.1197331857777411} \n",
      "\n",
      "Epoch 48:\n"
     ]
    },
    {
     "name": "stderr",
     "output_type": "stream",
     "text": [
      "40it [00:18,  2.15it/s]                                                                        \n"
     ]
    },
    {
     "name": "stdout",
     "output_type": "stream",
     "text": [
      "Training loss: 9.9425\n",
      "02/12/2023, 19:47:03\n",
      "Validation...\n",
      "validation loss: 167.8681\n",
      "validation metrics per feature:  {'Manufacturer': 0.9753024193548387, 'Manufacturer Model Name': 0.7580645161290323, 'Scan Options': 0.9042338709677419, 'Patient Position During MRI': 0.8956653225806451, 'Field Strength (Tesla)': 0.8497983870967742, 'Contrast Agent': 0.6149193548387096, 'Acquisition Matrix': 0.6461693548387096, 'Slice Thickness ': 0.1580308726237666, 'Flip Angle \\n': 0.10573630605734163, 'FOV Computed (Field of View) in cm ': 164.1814469368227, 'TE (Echo Time)': 0.021150247013616945, 'TR (Repetition Time)': 0.12416780187237647} \n",
      "\n",
      "Epoch 49:\n"
     ]
    },
    {
     "name": "stderr",
     "output_type": "stream",
     "text": [
      "40it [00:18,  2.18it/s]                                                                        \n"
     ]
    },
    {
     "name": "stdout",
     "output_type": "stream",
     "text": [
      "Training loss: 11.3320\n",
      "02/12/2023, 19:47:25\n",
      "Validation...\n",
      "validation loss: 157.7413\n",
      "validation metrics per feature:  {'Manufacturer': 0.9763104838709677, 'Manufacturer Model Name': 0.7379032258064516, 'Scan Options': 0.9173387096774194, 'Patient Position During MRI': 0.8785282258064516, 'Field Strength (Tesla)': 0.8346774193548387, 'Contrast Agent': 0.6255040322580645, 'Acquisition Matrix': 0.5877016129032258, 'Slice Thickness ': 0.14988964075042355, 'Flip Angle \\n': 0.10157453136578683, 'FOV Computed (Field of View) in cm ': 153.91900437878024, 'TE (Echo Time)': 0.05719019328394244, 'TR (Repetition Time)': 0.1156809147327177} \n",
      "\n",
      "Epoch 50:\n"
     ]
    },
    {
     "name": "stderr",
     "output_type": "stream",
     "text": [
      "40it [00:23,  1.70it/s]                                                                        \n"
     ]
    },
    {
     "name": "stdout",
     "output_type": "stream",
     "text": [
      "Training loss: 9.6447\n",
      "02/12/2023, 19:47:52\n",
      "Validation...\n",
      "validation loss: 162.2706\n",
      "validation metrics per feature:  {'Manufacturer': 0.9753024193548387, 'Manufacturer Model Name': 0.7626008064516129, 'Scan Options': 0.9097782258064516, 'Patient Position During MRI': 0.8921370967741935, 'Field Strength (Tesla)': 0.8397177419354839, 'Contrast Agent': 0.6305443548387096, 'Acquisition Matrix': 0.6244959677419355, 'Slice Thickness ': 0.15098270773887634, 'Flip Angle \\n': 0.10480127381461282, 'FOV Computed (Field of View) in cm ': 158.65430745770854, 'TE (Echo Time)': 0.01516123644767269, 'TR (Repetition Time)': 0.1243461327206704} \n",
      "\n",
      "Saving ...\n",
      "Epoch 51:\n"
     ]
    },
    {
     "name": "stderr",
     "output_type": "stream",
     "text": [
      "40it [00:38,  1.04it/s]                                                                        \n"
     ]
    },
    {
     "name": "stdout",
     "output_type": "stream",
     "text": [
      "Training loss: 10.6230\n",
      "02/12/2023, 19:48:39\n",
      "Validation...\n",
      "validation loss: 171.2699\n",
      "validation metrics per feature:  {'Manufacturer': 0.9717741935483871, 'Manufacturer Model Name': 0.7862903225806451, 'Scan Options': 0.9223790322580645, 'Patient Position During MRI': 0.905241935483871, 'Field Strength (Tesla)': 0.8482862903225806, 'Contrast Agent': 0.6068548387096774, 'Acquisition Matrix': 0.6512096774193549, 'Slice Thickness ': 0.16137265077521723, 'Flip Angle \\n': 0.10056503297340486, 'FOV Computed (Field of View) in cm ': 167.75321812783517, 'TE (Echo Time)': 0.022880011388371067, 'TR (Repetition Time)': 0.11574408604252723} \n",
      "\n",
      "Epoch 52:\n"
     ]
    },
    {
     "name": "stderr",
     "output_type": "stream",
     "text": [
      "40it [00:50,  1.25s/it]                                                                        \n"
     ]
    },
    {
     "name": "stdout",
     "output_type": "stream",
     "text": [
      "Training loss: 9.7519\n",
      "02/12/2023, 19:49:43\n",
      "Validation...\n",
      "validation loss: 161.9965\n",
      "validation metrics per feature:  {'Manufacturer': 0.9768145161290323, 'Manufacturer Model Name': 0.748991935483871, 'Scan Options': 0.8361895161290323, 'Patient Position During MRI': 0.9012096774193549, 'Field Strength (Tesla)': 0.8256048387096774, 'Contrast Agent': 0.6234879032258065, 'Acquisition Matrix': 0.6471774193548387, 'Slice Thickness ': 0.14986868154618047, 'Flip Angle \\n': 0.10405478031644898, 'FOV Computed (Field of View) in cm ': 157.89783354728453, 'TE (Echo Time)': 0.060556833662333026, 'TR (Repetition Time)': 0.20209548406062589} \n",
      "\n",
      "Epoch 53:\n"
     ]
    },
    {
     "name": "stderr",
     "output_type": "stream",
     "text": [
      "40it [00:17,  2.23it/s]                                                                        \n"
     ]
    },
    {
     "name": "stdout",
     "output_type": "stream",
     "text": [
      "Training loss: 10.0195\n",
      "02/12/2023, 19:50:10\n",
      "Validation...\n",
      "validation loss: 221.8576\n",
      "validation metrics per feature:  {'Manufacturer': 0.9753024193548387, 'Manufacturer Model Name': 0.8084677419354839, 'Scan Options': 0.9203629032258065, 'Patient Position During MRI': 0.8961693548387096, 'Field Strength (Tesla)': 0.8402217741935484, 'Contrast Agent': 0.6179435483870968, 'Acquisition Matrix': 0.6688508064516129, 'Slice Thickness ': 0.16265487598796044, 'Flip Angle \\n': 0.15565032439847146, 'FOV Computed (Field of View) in cm ': 218.20930579400832, 'TE (Echo Time)': 0.02120700664818287, 'TR (Repetition Time)': 0.1582745683770026} \n",
      "\n",
      "Epoch 54:\n"
     ]
    },
    {
     "name": "stderr",
     "output_type": "stream",
     "text": [
      "40it [00:17,  2.24it/s]                                                                        \n"
     ]
    },
    {
     "name": "stdout",
     "output_type": "stream",
     "text": [
      "Training loss: 12.0683\n",
      "02/12/2023, 19:50:31\n",
      "Validation...\n",
      "validation loss: 156.0374\n",
      "validation metrics per feature:  {'Manufacturer': 0.9717741935483871, 'Manufacturer Model Name': 0.7998991935483871, 'Scan Options': 0.9314516129032258, 'Patient Position During MRI': 0.8981854838709677, 'Field Strength (Tesla)': 0.8371975806451613, 'Contrast Agent': 0.6164314516129032, 'Acquisition Matrix': 0.670866935483871, 'Slice Thickness ': 0.16903149697088427, 'Flip Angle \\n': 0.09936168892008643, 'FOV Computed (Field of View) in cm ': 152.60253955471902, 'TE (Echo Time)': 0.017992421503989928, 'TR (Repetition Time)': 0.10190009349776853} \n",
      "\n",
      "Epoch 55:\n"
     ]
    },
    {
     "name": "stderr",
     "output_type": "stream",
     "text": [
      "40it [00:17,  2.24it/s]                                                                        \n"
     ]
    },
    {
     "name": "stdout",
     "output_type": "stream",
     "text": [
      "Training loss: 11.7941\n",
      "02/12/2023, 19:50:52\n",
      "Validation...\n",
      "validation loss: 200.8020\n",
      "validation metrics per feature:  {'Manufacturer': 0.9768145161290323, 'Manufacturer Model Name': 0.7641129032258065, 'Scan Options': 0.8659274193548387, 'Patient Position During MRI': 0.9117943548387096, 'Field Strength (Tesla)': 0.8266129032258065, 'Contrast Agent': 0.6496975806451613, 'Acquisition Matrix': 0.6340725806451613, 'Slice Thickness ': 0.15674394657534937, 'Flip Angle \\n': 0.10408360144544032, 'FOV Computed (Field of View) in cm ': 197.06470907888104, 'TE (Echo Time)': 0.02115753791745632, 'TR (Repetition Time)': 0.12389790290786375} \n",
      "\n",
      "Saving ...\n",
      "Epoch 56:\n"
     ]
    },
    {
     "name": "stderr",
     "output_type": "stream",
     "text": [
      "40it [00:17,  2.26it/s]                                                                        \n"
     ]
    },
    {
     "name": "stdout",
     "output_type": "stream",
     "text": [
      "Training loss: 12.1545\n",
      "02/12/2023, 19:51:14\n",
      "Validation...\n",
      "validation loss: 164.5886\n",
      "validation metrics per feature:  {'Manufacturer': 0.9773185483870968, 'Manufacturer Model Name': 0.8024193548387096, 'Scan Options': 0.9279233870967742, 'Patient Position During MRI': 0.8976814516129032, 'Field Strength (Tesla)': 0.84375, 'Contrast Agent': 0.6466733870967742, 'Acquisition Matrix': 0.6663306451612904, 'Slice Thickness ': 0.155446563757235, 'Flip Angle \\n': 0.09794336377132323, 'FOV Computed (Field of View) in cm ': 161.11168596821446, 'TE (Echo Time)': 0.013711625529873756, 'TR (Repetition Time)': 0.1550785865514509} \n",
      "\n",
      "Epoch 57:\n"
     ]
    },
    {
     "name": "stderr",
     "output_type": "stream",
     "text": [
      "40it [00:17,  2.27it/s]                                                                        \n"
     ]
    },
    {
     "name": "stdout",
     "output_type": "stream",
     "text": [
      "Training loss: 10.3383\n",
      "02/12/2023, 19:51:35\n",
      "Validation...\n",
      "validation loss: 184.1235\n",
      "validation metrics per feature:  {'Manufacturer': 0.96875, 'Manufacturer Model Name': 0.8009072580645161, 'Scan Options': 0.9319556451612904, 'Patient Position During MRI': 0.9153225806451613, 'Field Strength (Tesla)': 0.8301411290322581, 'Contrast Agent': 0.6169354838709677, 'Acquisition Matrix': 0.6527217741935484, 'Slice Thickness ': 0.14619940543367016, 'Flip Angle \\n': 0.11643060254714181, 'FOV Computed (Field of View) in cm ': 180.66056060791016, 'TE (Echo Time)': 0.0258251128177489, 'TR (Repetition Time)': 0.12532175909126958} \n",
      "\n",
      "Epoch 58:\n"
     ]
    },
    {
     "name": "stderr",
     "output_type": "stream",
     "text": [
      "40it [00:17,  2.27it/s]                                                                        \n"
     ]
    },
    {
     "name": "stdout",
     "output_type": "stream",
     "text": [
      "Training loss: 12.9406\n",
      "02/12/2023, 19:51:56\n",
      "Validation...\n",
      "validation loss: 162.2049\n",
      "validation metrics per feature:  {'Manufacturer': 0.9742943548387096, 'Manufacturer Model Name': 0.8099798387096774, 'Scan Options': 0.938508064516129, 'Patient Position During MRI': 0.9037298387096774, 'Field Strength (Tesla)': 0.8417338709677419, 'Contrast Agent': 0.6441532258064516, 'Acquisition Matrix': 0.6799395161290323, 'Slice Thickness ': 0.15248834558071628, 'Flip Angle \\n': 0.09810731148407344, 'FOV Computed (Field of View) in cm ': 158.9251443186114, 'TE (Echo Time)': 0.01438066528569306, 'TR (Repetition Time)': 0.1050089862077467} \n",
      "\n",
      "Epoch 59:\n"
     ]
    },
    {
     "name": "stderr",
     "output_type": "stream",
     "text": [
      "40it [00:17,  2.29it/s]                                                                        \n"
     ]
    },
    {
     "name": "stdout",
     "output_type": "stream",
     "text": [
      "Training loss: 11.5983\n",
      "02/12/2023, 19:52:17\n",
      "Validation...\n",
      "validation loss: 193.4000\n",
      "validation metrics per feature:  {'Manufacturer': 0.9753024193548387, 'Manufacturer Model Name': 0.7817540322580645, 'Scan Options': 0.905241935483871, 'Patient Position During MRI': 0.9012096774193549, 'Field Strength (Tesla)': 0.8442540322580645, 'Contrast Agent': 0.6617943548387096, 'Acquisition Matrix': 0.6582661290322581, 'Slice Thickness ': 0.15647149013896142, 'Flip Angle \\n': 0.11784970748328394, 'FOV Computed (Field of View) in cm ': 189.79578350436302, 'TE (Echo Time)': 0.04711749927411156, 'TR (Repetition Time)': 0.1458742185946434} \n",
      "\n",
      "Epoch 60:\n"
     ]
    },
    {
     "name": "stderr",
     "output_type": "stream",
     "text": [
      "40it [00:17,  2.31it/s]                                                                        \n"
     ]
    },
    {
     "name": "stdout",
     "output_type": "stream",
     "text": [
      "Training loss: 11.3790\n",
      "02/12/2023, 19:52:37\n",
      "Validation...\n",
      "validation loss: 154.0375\n",
      "validation metrics per feature:  {'Manufacturer': 0.9727822580645161, 'Manufacturer Model Name': 0.7605846774193549, 'Scan Options': 0.9193548387096774, 'Patient Position During MRI': 0.9012096774193549, 'Field Strength (Tesla)': 0.829133064516129, 'Contrast Agent': 0.6612903225806451, 'Acquisition Matrix': 0.609375, 'Slice Thickness ': 0.17008075646815762, 'Flip Angle \\n': 0.10380621831263265, 'FOV Computed (Field of View) in cm ': 150.4768548780872, 'TE (Echo Time)': 0.012739904855768527, 'TR (Repetition Time)': 0.10215702112163266} \n",
      "\n",
      "Saving ...\n",
      "Epoch 61:\n"
     ]
    },
    {
     "name": "stderr",
     "output_type": "stream",
     "text": [
      "40it [00:17,  2.23it/s]                                                                        \n"
     ]
    },
    {
     "name": "stdout",
     "output_type": "stream",
     "text": [
      "Training loss: 11.9172\n",
      "02/12/2023, 19:52:59\n",
      "Validation...\n",
      "validation loss: 165.7019\n",
      "validation metrics per feature:  {'Manufacturer': 0.9783266129032258, 'Manufacturer Model Name': 0.7746975806451613, 'Scan Options': 0.9485887096774194, 'Patient Position During MRI': 0.8865927419354839, 'Field Strength (Tesla)': 0.8084677419354839, 'Contrast Agent': 0.6350806451612904, 'Acquisition Matrix': 0.6376008064516129, 'Slice Thickness ': 0.1635994444931707, 'Flip Angle \\n': 0.09958044604788865, 'FOV Computed (Field of View) in cm ': 162.14432107248615, 'TE (Echo Time)': 0.016299361783650615, 'TR (Repetition Time)': 0.19631716945478994} \n",
      "\n",
      "Epoch 62:\n"
     ]
    },
    {
     "name": "stderr",
     "output_type": "stream",
     "text": [
      "40it [00:17,  2.24it/s]                                                                        \n"
     ]
    },
    {
     "name": "stdout",
     "output_type": "stream",
     "text": [
      "Training loss: 10.9242\n",
      "02/12/2023, 19:53:20\n",
      "Validation...\n",
      "validation loss: 159.8924\n",
      "validation metrics per feature:  {'Manufacturer': 0.9788306451612904, 'Manufacturer Model Name': 0.8261088709677419, 'Scan Options': 0.952116935483871, 'Patient Position During MRI': 0.9022177419354839, 'Field Strength (Tesla)': 0.8387096774193549, 'Contrast Agent': 0.6612903225806451, 'Acquisition Matrix': 0.6517137096774194, 'Slice Thickness ': 0.1439827514752265, 'Flip Angle \\n': 0.09736844927312867, 'FOV Computed (Field of View) in cm ': 156.55520309940462, 'TE (Echo Time)': 0.03112236007807716, 'TR (Repetition Time)': 0.14205323520206636} \n",
      "\n",
      "Epoch 63:\n"
     ]
    },
    {
     "name": "stderr",
     "output_type": "stream",
     "text": [
      "40it [00:17,  2.25it/s]                                                                        \n"
     ]
    },
    {
     "name": "stdout",
     "output_type": "stream",
     "text": [
      "Training loss: 12.1319\n",
      "02/12/2023, 19:53:41\n",
      "Validation...\n",
      "validation loss: 160.2510\n",
      "validation metrics per feature:  {'Manufacturer': 0.9501008064516129, 'Manufacturer Model Name': 0.7469758064516129, 'Scan Options': 0.8911290322580645, 'Patient Position During MRI': 0.8850806451612904, 'Field Strength (Tesla)': 0.8402217741935484, 'Contrast Agent': 0.6340725806451613, 'Acquisition Matrix': 0.6633064516129032, 'Slice Thickness ': 0.14506344761579268, 'Flip Angle \\n': 0.1115493543085552, 'FOV Computed (Field of View) in cm ': 156.55795361918788, 'TE (Echo Time)': 0.019943434534774672, 'TR (Repetition Time)': 0.10365909169758519} \n",
      "\n",
      "Epoch 64:\n"
     ]
    },
    {
     "name": "stderr",
     "output_type": "stream",
     "text": [
      "40it [00:17,  2.29it/s]                                                                        \n"
     ]
    },
    {
     "name": "stdout",
     "output_type": "stream",
     "text": [
      "Training loss: 12.7297\n",
      "02/12/2023, 19:54:02\n",
      "Validation...\n",
      "validation loss: 154.9199\n",
      "validation metrics per feature:  {'Manufacturer': 0.9722782258064516, 'Manufacturer Model Name': 0.7953629032258065, 'Scan Options': 0.9294354838709677, 'Patient Position During MRI': 0.9138104838709677, 'Field Strength (Tesla)': 0.8452620967741935, 'Contrast Agent': 0.608366935483871, 'Acquisition Matrix': 0.6673387096774194, 'Slice Thickness ': 0.20472580915497196, 'Flip Angle \\n': 0.09318541014386762, 'FOV Computed (Field of View) in cm ': 151.51349024618827, 'TE (Echo Time)': 0.018511063869922392, 'TR (Repetition Time)': 0.10468920969193982} \n",
      "\n",
      "Epoch 65:\n"
     ]
    },
    {
     "name": "stderr",
     "output_type": "stream",
     "text": [
      "40it [00:17,  2.29it/s]                                                                        \n"
     ]
    },
    {
     "name": "stdout",
     "output_type": "stream",
     "text": [
      "Training loss: 8.4470\n",
      "02/12/2023, 19:54:22\n",
      "Validation...\n",
      "validation loss: 169.5291\n",
      "validation metrics per feature:  {'Manufacturer': 0.9778225806451613, 'Manufacturer Model Name': 0.7232862903225806, 'Scan Options': 0.9148185483870968, 'Patient Position During MRI': 0.8971774193548387, 'Field Strength (Tesla)': 0.8054435483870968, 'Contrast Agent': 0.640625, 'Acquisition Matrix': 0.6512096774193549, 'Slice Thickness ': 0.14621371295182936, 'Flip Angle \\n': 0.0915820830231232, 'FOV Computed (Field of View) in cm ': 165.80614865210748, 'TE (Echo Time)': 0.017155289019067443, 'TR (Repetition Time)': 0.18825937254774955} \n",
      "\n",
      "Saving ...\n",
      "Epoch 66:\n"
     ]
    },
    {
     "name": "stderr",
     "output_type": "stream",
     "text": [
      "40it [00:17,  2.25it/s]                                                                        \n"
     ]
    },
    {
     "name": "stdout",
     "output_type": "stream",
     "text": [
      "Training loss: 8.1413\n",
      "02/12/2023, 19:54:44\n",
      "Validation...\n",
      "validation loss: 160.8272\n",
      "validation metrics per feature:  {'Manufacturer': 0.9768145161290323, 'Manufacturer Model Name': 0.8225806451612904, 'Scan Options': 0.9470766129032258, 'Patient Position During MRI': 0.9017137096774194, 'Field Strength (Tesla)': 0.8513104838709677, 'Contrast Agent': 0.6809475806451613, 'Acquisition Matrix': 0.6915322580645161, 'Slice Thickness ': 0.14463738424162711, 'Flip Angle \\n': 0.09316049660405805, 'FOV Computed (Field of View) in cm ': 157.618036823888, 'TE (Echo Time)': 0.019061092257259354, 'TR (Repetition Time)': 0.10317396348522555} \n",
      "\n",
      "Epoch 67:\n"
     ]
    },
    {
     "name": "stderr",
     "output_type": "stream",
     "text": [
      "40it [00:18,  2.22it/s]                                                                        \n"
     ]
    },
    {
     "name": "stdout",
     "output_type": "stream",
     "text": [
      "Training loss: 8.4899\n",
      "02/12/2023, 19:55:05\n",
      "Validation...\n",
      "validation loss: 157.4755\n",
      "validation metrics per feature:  {'Manufacturer': 0.9773185483870968, 'Manufacturer Model Name': 0.7867943548387096, 'Scan Options': 0.9435483870967742, 'Patient Position During MRI': 0.9153225806451613, 'Field Strength (Tesla)': 0.8477822580645161, 'Contrast Agent': 0.6582661290322581, 'Acquisition Matrix': 0.6905241935483871, 'Slice Thickness ': 0.14953233541980868, 'Flip Angle \\n': 0.08461675498514407, 'FOV Computed (Field of View) in cm ': 154.33336491738595, 'TE (Echo Time)': 0.014123714468892544, 'TR (Repetition Time)': 0.12701667604907865} \n",
      "\n",
      "Epoch 68:\n"
     ]
    },
    {
     "name": "stderr",
     "output_type": "stream",
     "text": [
      "40it [00:17,  2.30it/s]                                                                        \n"
     ]
    },
    {
     "name": "stdout",
     "output_type": "stream",
     "text": [
      "Training loss: 8.8863\n",
      "02/12/2023, 19:55:25\n",
      "Validation...\n",
      "validation loss: 153.4004\n",
      "validation metrics per feature:  {'Manufacturer': 0.9778225806451613, 'Manufacturer Model Name': 0.8235887096774194, 'Scan Options': 0.9415322580645161, 'Patient Position During MRI': 0.9002016129032258, 'Field Strength (Tesla)': 0.8346774193548387, 'Contrast Agent': 0.6693548387096774, 'Acquisition Matrix': 0.6829637096774194, 'Slice Thickness ': 0.15842934337354475, 'Flip Angle \\n': 0.08630214889924373, 'FOV Computed (Field of View) in cm ': 150.20846976003338, 'TE (Echo Time)': 0.01601037115699822, 'TR (Repetition Time)': 0.09782014426685148} \n",
      "\n",
      "Epoch 69:\n"
     ]
    },
    {
     "name": "stderr",
     "output_type": "stream",
     "text": [
      "40it [00:17,  2.31it/s]                                                                        \n"
     ]
    },
    {
     "name": "stdout",
     "output_type": "stream",
     "text": [
      "Training loss: 10.4102\n",
      "02/12/2023, 19:55:46\n",
      "Validation...\n",
      "validation loss: 162.9232\n",
      "validation metrics per feature:  {'Manufacturer': 0.9727822580645161, 'Manufacturer Model Name': 0.7701612903225806, 'Scan Options': 0.9037298387096774, 'Patient Position During MRI': 0.921875, 'Field Strength (Tesla)': 0.8503024193548387, 'Contrast Agent': 0.6290322580645161, 'Acquisition Matrix': 0.6567540322580645, 'Slice Thickness ': 0.14395436572451745, 'Flip Angle \\n': 0.10404381011762927, 'FOV Computed (Field of View) in cm ': 159.50860201927924, 'TE (Echo Time)': 0.012123108345774873, 'TR (Repetition Time)': 0.09726530361560083} \n",
      "\n",
      "Epoch 70:\n"
     ]
    },
    {
     "name": "stderr",
     "output_type": "stream",
     "text": [
      "40it [00:18,  2.14it/s]                                                                        \n"
     ]
    },
    {
     "name": "stdout",
     "output_type": "stream",
     "text": [
      "Training loss: 8.4807\n",
      "02/12/2023, 19:56:08\n",
      "Validation...\n",
      "validation loss: 189.3017\n",
      "validation metrics per feature:  {'Manufacturer': 0.9758064516129032, 'Manufacturer Model Name': 0.7993951612903226, 'Scan Options': 0.9324596774193549, 'Patient Position During MRI': 0.9092741935483871, 'Field Strength (Tesla)': 0.8276209677419355, 'Contrast Agent': 0.6502016129032258, 'Acquisition Matrix': 0.6859879032258065, 'Slice Thickness ': 0.1477714224207786, 'Flip Angle \\n': 0.09884521244995055, 'FOV Computed (Field of View) in cm ': 185.94148131339782, 'TE (Echo Time)': 0.022390345592171915, 'TR (Repetition Time)': 0.12414946455147959} \n",
      "\n",
      "Saving ...\n",
      "Epoch 71:\n"
     ]
    },
    {
     "name": "stderr",
     "output_type": "stream",
     "text": [
      "40it [00:18,  2.21it/s]                                                                        \n"
     ]
    },
    {
     "name": "stdout",
     "output_type": "stream",
     "text": [
      "Training loss: 9.4936\n",
      "02/12/2023, 19:56:29\n",
      "Validation...\n",
      "validation loss: 165.8129\n",
      "validation metrics per feature:  {'Manufacturer': 0.9637096774193549, 'Manufacturer Model Name': 0.8004032258064516, 'Scan Options': 0.9289314516129032, 'Patient Position During MRI': 0.9057459677419355, 'Field Strength (Tesla)': 0.8573588709677419, 'Contrast Agent': 0.6688508064516129, 'Acquisition Matrix': 0.702116935483871, 'Slice Thickness ': 0.14051794453013328, 'Flip Angle \\n': 0.09588504558609377, 'FOV Computed (Field of View) in cm ': 162.63267418646043, 'TE (Echo Time)': 0.017008570052923694, 'TR (Repetition Time)': 0.111754342432945} \n",
      "\n",
      "Epoch 72:\n"
     ]
    },
    {
     "name": "stderr",
     "output_type": "stream",
     "text": [
      "40it [00:17,  2.26it/s]                                                                        \n"
     ]
    },
    {
     "name": "stdout",
     "output_type": "stream",
     "text": [
      "Training loss: 8.8308\n",
      "02/12/2023, 19:56:50\n",
      "Validation...\n",
      "validation loss: 161.0790\n",
      "validation metrics per feature:  {'Manufacturer': 0.9778225806451613, 'Manufacturer Model Name': 0.7711693548387096, 'Scan Options': 0.938508064516129, 'Patient Position During MRI': 0.8991935483870968, 'Field Strength (Tesla)': 0.8462701612903226, 'Contrast Agent': 0.6678427419354839, 'Acquisition Matrix': 0.6990927419354839, 'Slice Thickness ': 0.14327109677176322, 'Flip Angle \\n': 0.09041582690852304, 'FOV Computed (Field of View) in cm ': 157.86704918646043, 'TE (Echo Time)': 0.016593861814227798, 'TR (Repetition Time)': 0.11235239837438829} \n",
      "\n",
      "Epoch 73:\n"
     ]
    },
    {
     "name": "stderr",
     "output_type": "stream",
     "text": [
      "40it [00:17,  2.27it/s]                                                                        \n"
     ]
    },
    {
     "name": "stdout",
     "output_type": "stream",
     "text": [
      "Training loss: 9.5286\n",
      "02/12/2023, 19:57:11\n",
      "Validation...\n",
      "validation loss: 182.4164\n",
      "validation metrics per feature:  {'Manufacturer': 0.9717741935483871, 'Manufacturer Model Name': 0.7061491935483871, 'Scan Options': 0.8321572580645161, 'Patient Position During MRI': 0.9092741935483871, 'Field Strength (Tesla)': 0.78125, 'Contrast Agent': 0.65625, 'Acquisition Matrix': 0.6426411290322581, 'Slice Thickness ': 0.16482909456376107, 'Flip Angle \\n': 0.17301929573858937, 'FOV Computed (Field of View) in cm ': 178.12196546985257, 'TE (Echo Time)': 0.013701224729659097, 'TR (Repetition Time)': 0.18509723678711923} \n",
      "\n",
      "Epoch 74:\n"
     ]
    },
    {
     "name": "stderr",
     "output_type": "stream",
     "text": [
      "40it [00:17,  2.23it/s]                                                                        \n"
     ]
    },
    {
     "name": "stdout",
     "output_type": "stream",
     "text": [
      "Training loss: 9.2419\n",
      "02/12/2023, 19:57:33\n",
      "Validation...\n",
      "validation loss: 181.5454\n",
      "validation metrics per feature:  {'Manufacturer': 0.9788306451612904, 'Manufacturer Model Name': 0.8387096774193549, 'Scan Options': 0.9506048387096774, 'Patient Position During MRI': 0.9193548387096774, 'Field Strength (Tesla)': 0.8588709677419355, 'Contrast Agent': 0.6990927419354839, 'Acquisition Matrix': 0.7182459677419355, 'Slice Thickness ': 0.15498442947864532, 'Flip Angle \\n': 0.0862512574080498, 'FOV Computed (Field of View) in cm ': 178.51495115218623, 'TE (Echo Time)': 0.01979656577590973, 'TR (Repetition Time)': 0.10143977764152712} \n",
      "\n",
      "Epoch 75:\n"
     ]
    },
    {
     "name": "stderr",
     "output_type": "stream",
     "text": [
      "40it [00:18,  2.19it/s]                                                                        \n"
     ]
    },
    {
     "name": "stdout",
     "output_type": "stream",
     "text": [
      "Training loss: 9.4492\n",
      "02/12/2023, 19:57:55\n",
      "Validation...\n",
      "validation loss: 158.3402\n",
      "validation metrics per feature:  {'Manufacturer': 0.9747983870967742, 'Manufacturer Model Name': 0.8019153225806451, 'Scan Options': 0.936491935483871, 'Patient Position During MRI': 0.9168346774193549, 'Field Strength (Tesla)': 0.8623991935483871, 'Contrast Agent': 0.6799395161290323, 'Acquisition Matrix': 0.7091733870967742, 'Slice Thickness ': 0.16142557152817327, 'Flip Angle \\n': 0.08057042848198645, 'FOV Computed (Field of View) in cm ': 155.0894000145697, 'TE (Echo Time)': 0.026684496431581436, 'TR (Repetition Time)': 0.1611838761356569} \n",
      "\n",
      "Saving ...\n",
      "Epoch 76:\n"
     ]
    },
    {
     "name": "stderr",
     "output_type": "stream",
     "text": [
      "40it [00:18,  2.22it/s]                                                                        \n"
     ]
    },
    {
     "name": "stdout",
     "output_type": "stream",
     "text": [
      "Training loss: 10.3759\n",
      "02/12/2023, 19:58:16\n",
      "Validation...\n",
      "validation loss: 173.5752\n",
      "validation metrics per feature:  {'Manufacturer': 0.9778225806451613, 'Manufacturer Model Name': 0.8422379032258065, 'Scan Options': 0.9551411290322581, 'Patient Position During MRI': 0.9027217741935484, 'Field Strength (Tesla)': 0.8613911290322581, 'Contrast Agent': 0.6723790322580645, 'Acquisition Matrix': 0.7101814516129032, 'Slice Thickness ': 0.15314896909459944, 'Flip Angle \\n': 0.08797830235092871, 'FOV Computed (Field of View) in cm ': 170.5146983977287, 'TE (Echo Time)': 0.013083742691143867, 'TR (Repetition Time)': 0.10720759906595753} \n",
      "\n",
      "Epoch 77:\n"
     ]
    },
    {
     "name": "stderr",
     "output_type": "stream",
     "text": [
      "40it [00:17,  2.23it/s]                                                                        \n"
     ]
    },
    {
     "name": "stdout",
     "output_type": "stream",
     "text": [
      "Training loss: 8.5189\n",
      "02/12/2023, 19:58:37\n",
      "Validation...\n",
      "validation loss: 155.0272\n",
      "validation metrics per feature:  {'Manufacturer': 0.9722782258064516, 'Manufacturer Model Name': 0.7631048387096774, 'Scan Options': 0.8669354838709677, 'Patient Position During MRI': 0.9264112903225806, 'Field Strength (Tesla)': 0.8482862903225806, 'Contrast Agent': 0.657258064516129, 'Acquisition Matrix': 0.6592741935483871, 'Slice Thickness ': 0.15579814247546658, 'Flip Angle \\n': 0.09388413436470493, 'FOV Computed (Field of View) in cm ': 151.20179157872354, 'TE (Echo Time)': 0.023231115612772205, 'TR (Repetition Time)': 0.10439195892503185} \n",
      "\n",
      "Epoch 78:\n"
     ]
    },
    {
     "name": "stderr",
     "output_type": "stream",
     "text": [
      "40it [00:17,  2.22it/s]                                                                        \n"
     ]
    },
    {
     "name": "stdout",
     "output_type": "stream",
     "text": [
      "Training loss: 7.6182\n",
      "02/12/2023, 19:58:59\n",
      "Validation...\n",
      "validation loss: 155.7510\n",
      "validation metrics per feature:  {'Manufacturer': 0.9763104838709677, 'Manufacturer Model Name': 0.8306451612903226, 'Scan Options': 0.9647177419354839, 'Patient Position During MRI': 0.9012096774193549, 'Field Strength (Tesla)': 0.8755040322580645, 'Contrast Agent': 0.6794354838709677, 'Acquisition Matrix': 0.7389112903225806, 'Slice Thickness ': 0.1435600271628749, 'Flip Angle \\n': 0.08421240338394718, 'FOV Computed (Field of View) in cm ': 152.84692924253403, 'TE (Echo Time)': 0.054056128066393636, 'TR (Repetition Time)': 0.095302437101641} \n",
      "\n",
      "Epoch 79:\n"
     ]
    },
    {
     "name": "stderr",
     "output_type": "stream",
     "text": [
      "40it [00:17,  2.24it/s]                                                                        \n"
     ]
    },
    {
     "name": "stdout",
     "output_type": "stream",
     "text": [
      "Training loss: 8.2988\n",
      "02/12/2023, 19:59:20\n",
      "Validation...\n",
      "validation loss: 157.7248\n",
      "validation metrics per feature:  {'Manufacturer': 0.9783266129032258, 'Manufacturer Model Name': 0.8382056451612904, 'Scan Options': 0.9606854838709677, 'Patient Position During MRI': 0.922883064516129, 'Field Strength (Tesla)': 0.8699596774193549, 'Contrast Agent': 0.7011088709677419, 'Acquisition Matrix': 0.7288306451612904, 'Slice Thickness ': 0.1471575940808942, 'Flip Angle \\n': 0.08234875324753023, 'FOV Computed (Field of View) in cm ': 154.77121882284843, 'TE (Echo Time)': 0.052319047431791985, 'TR (Repetition Time)': 0.09468430472958472} \n",
      "\n",
      "Epoch 80:\n"
     ]
    },
    {
     "name": "stderr",
     "output_type": "stream",
     "text": [
      "40it [00:18,  2.22it/s]                                                                        \n"
     ]
    },
    {
     "name": "stdout",
     "output_type": "stream",
     "text": [
      "Training loss: 8.2136\n",
      "02/12/2023, 19:59:41\n",
      "Validation...\n",
      "validation loss: 161.5303\n",
      "validation metrics per feature:  {'Manufacturer': 0.9727822580645161, 'Manufacturer Model Name': 0.8261088709677419, 'Scan Options': 0.9632056451612904, 'Patient Position During MRI': 0.9168346774193549, 'Field Strength (Tesla)': 0.8608870967741935, 'Contrast Agent': 0.6854838709677419, 'Acquisition Matrix': 0.7409274193548387, 'Slice Thickness ': 0.14568357578208369, 'Flip Angle \\n': 0.08336401820903824, 'FOV Computed (Field of View) in cm ': 158.58253897390057, 'TE (Echo Time)': 0.08326403340024333, 'TR (Repetition Time)': 0.10507257054409673} \n",
      "\n",
      "Saving ...\n",
      "Epoch 81:\n"
     ]
    },
    {
     "name": "stderr",
     "output_type": "stream",
     "text": [
      "40it [00:18,  2.20it/s]                                                                        \n"
     ]
    },
    {
     "name": "stdout",
     "output_type": "stream",
     "text": [
      "Training loss: 9.1874\n",
      "02/12/2023, 20:00:03\n",
      "Validation...\n",
      "validation loss: 156.7268\n",
      "validation metrics per feature:  {'Manufacturer': 0.9747983870967742, 'Manufacturer Model Name': 0.8311491935483871, 'Scan Options': 0.9601814516129032, 'Patient Position During MRI': 0.9133064516129032, 'Field Strength (Tesla)': 0.875, 'Contrast Agent': 0.7001008064516129, 'Acquisition Matrix': 0.7273185483870968, 'Slice Thickness ': 0.1486438435892905, 'Flip Angle \\n': 0.0866096019744873, 'FOV Computed (Field of View) in cm ': 153.81766633064515, 'TE (Echo Time)': 0.019653598807992473, 'TR (Repetition Time)': 0.0939597287966359} \n",
      "\n",
      "Epoch 82:\n"
     ]
    },
    {
     "name": "stderr",
     "output_type": "stream",
     "text": [
      "40it [00:18,  2.18it/s]                                                                        \n"
     ]
    },
    {
     "name": "stdout",
     "output_type": "stream",
     "text": [
      "Training loss: 8.5740\n",
      "02/12/2023, 20:00:25\n",
      "Validation...\n",
      "validation loss: 159.5551\n",
      "validation metrics per feature:  {'Manufacturer': 0.9773185483870968, 'Manufacturer Model Name': 0.8487903225806451, 'Scan Options': 0.9621975806451613, 'Patient Position During MRI': 0.9193548387096774, 'Field Strength (Tesla)': 0.8679435483870968, 'Contrast Agent': 0.6875, 'Acquisition Matrix': 0.7268145161290323, 'Slice Thickness ': 0.17632957620005454, 'Flip Angle \\n': 0.08185876329098979, 'FOV Computed (Field of View) in cm ': 156.6648010746125, 'TE (Echo Time)': 0.013525761693956391, 'TR (Repetition Time)': 0.08957091694877993} \n",
      "\n",
      "Epoch 83:\n"
     ]
    },
    {
     "name": "stderr",
     "output_type": "stream",
     "text": [
      "40it [00:17,  2.24it/s]                                                                        \n"
     ]
    },
    {
     "name": "stdout",
     "output_type": "stream",
     "text": [
      "Training loss: 8.3426\n",
      "02/12/2023, 20:00:46\n",
      "Validation...\n",
      "validation loss: 181.4653\n",
      "validation metrics per feature:  {'Manufacturer': 0.9778225806451613, 'Manufacturer Model Name': 0.828125, 'Scan Options': 0.9339717741935484, 'Patient Position During MRI': 0.9203629032258065, 'Field Strength (Tesla)': 0.8533266129032258, 'Contrast Agent': 0.704133064516129, 'Acquisition Matrix': 0.7142137096774194, 'Slice Thickness ': 0.15110551878329245, 'Flip Angle \\n': 0.08790779101752466, 'FOV Computed (Field of View) in cm ': 178.45423962993007, 'TE (Echo Time)': 0.026104350364015948, 'TR (Repetition Time)': 0.11320558262448158} \n",
      "\n",
      "Epoch 84:\n"
     ]
    },
    {
     "name": "stderr",
     "output_type": "stream",
     "text": [
      "40it [00:17,  2.25it/s]                                                                        \n"
     ]
    },
    {
     "name": "stdout",
     "output_type": "stream",
     "text": [
      "Training loss: 10.7077\n",
      "02/12/2023, 20:01:07\n",
      "Validation...\n",
      "validation loss: 171.9825\n",
      "validation metrics per feature:  {'Manufacturer': 0.9737903225806451, 'Manufacturer Model Name': 0.7449596774193549, 'Scan Options': 0.8911290322580645, 'Patient Position During MRI': 0.9254032258064516, 'Field Strength (Tesla)': 0.8709677419354839, 'Contrast Agent': 0.6915322580645161, 'Acquisition Matrix': 0.6945564516129032, 'Slice Thickness ': 0.14378228831675746, 'Flip Angle \\n': 0.09364914461489647, 'FOV Computed (Field of View) in cm ': 168.614377667827, 'TE (Echo Time)': 0.01849129729934277, 'TR (Repetition Time)': 0.09367257861360427} \n",
      "\n",
      "Epoch 85:\n"
     ]
    },
    {
     "name": "stderr",
     "output_type": "stream",
     "text": [
      "40it [00:17,  2.24it/s]                                                                        \n"
     ]
    },
    {
     "name": "stdout",
     "output_type": "stream",
     "text": [
      "Training loss: 9.8808\n",
      "02/12/2023, 20:01:28\n",
      "Validation...\n",
      "validation loss: 155.0408\n",
      "validation metrics per feature:  {'Manufacturer': 0.9773185483870968, 'Manufacturer Model Name': 0.8417338709677419, 'Scan Options': 0.9621975806451613, 'Patient Position During MRI': 0.9248991935483871, 'Field Strength (Tesla)': 0.8775201612903226, 'Contrast Agent': 0.6784274193548387, 'Acquisition Matrix': 0.735383064516129, 'Slice Thickness ': 0.15184534749677103, 'Flip Angle \\n': 0.0979015548383036, 'FOV Computed (Field of View) in cm ': 152.0741658364573, 'TE (Echo Time)': 0.026972876921776804, 'TR (Repetition Time)': 0.12836536692996178} \n",
      "\n",
      "Saving ...\n",
      "Epoch 86:\n"
     ]
    },
    {
     "name": "stderr",
     "output_type": "stream",
     "text": [
      "40it [00:20,  1.95it/s]                                                                        \n"
     ]
    },
    {
     "name": "stdout",
     "output_type": "stream",
     "text": [
      "Training loss: 9.3005\n",
      "02/12/2023, 20:01:52\n",
      "Validation...\n",
      "validation loss: 172.6194\n",
      "validation metrics per feature:  {'Manufacturer': 0.9732862903225806, 'Manufacturer Model Name': 0.6683467741935484, 'Scan Options': 0.796875, 'Patient Position During MRI': 0.9163306451612904, 'Field Strength (Tesla)': 0.6043346774193549, 'Contrast Agent': 0.6139112903225806, 'Acquisition Matrix': 0.577116935483871, 'Slice Thickness ': 0.14970382591409068, 'Flip Angle \\n': 0.08957451870364527, 'FOV Computed (Field of View) in cm ': 167.1534694548576, 'TE (Echo Time)': 0.01636675546967214, 'TR (Repetition Time)': 0.10522770521140867} \n",
      "\n",
      "Epoch 87:\n"
     ]
    },
    {
     "name": "stderr",
     "output_type": "stream",
     "text": [
      "40it [00:21,  1.84it/s]                                                                        \n"
     ]
    },
    {
     "name": "stdout",
     "output_type": "stream",
     "text": [
      "Training loss: 9.1124\n",
      "02/12/2023, 20:02:17\n",
      "Validation...\n",
      "validation loss: 158.8660\n",
      "validation metrics per feature:  {'Manufacturer': 0.9788306451612904, 'Manufacturer Model Name': 0.8618951612903226, 'Scan Options': 0.9571572580645161, 'Patient Position During MRI': 0.920866935483871, 'Field Strength (Tesla)': 0.8881048387096774, 'Contrast Agent': 0.7036290322580645, 'Acquisition Matrix': 0.7535282258064516, 'Slice Thickness ': 0.1629449621804299, 'Flip Angle \\n': 0.08193900213847237, 'FOV Computed (Field of View) in cm ': 156.11382367534023, 'TE (Echo Time)': 0.030612613945718733, 'TR (Repetition Time)': 0.08738120513096932} \n",
      "\n",
      "Epoch 88:\n"
     ]
    },
    {
     "name": "stderr",
     "output_type": "stream",
     "text": [
      "40it [00:19,  2.03it/s]                                                                        \n"
     ]
    },
    {
     "name": "stdout",
     "output_type": "stream",
     "text": [
      "Training loss: 11.5192\n",
      "02/12/2023, 20:02:40\n",
      "Validation...\n",
      "validation loss: 161.8121\n",
      "validation metrics per feature:  {'Manufacturer': 0.9778225806451613, 'Manufacturer Model Name': 0.8240927419354839, 'Scan Options': 0.9571572580645161, 'Patient Position During MRI': 0.9153225806451613, 'Field Strength (Tesla)': 0.860383064516129, 'Contrast Agent': 0.7051411290322581, 'Acquisition Matrix': 0.7449596774193549, 'Slice Thickness ': 0.14713472560528787, 'Flip Angle \\n': 0.10081274987709138, 'FOV Computed (Field of View) in cm ': 158.96487771311115, 'TE (Echo Time)': 0.013965857695908315, 'TR (Repetition Time)': 0.10830250815037758} \n",
      "\n",
      "Epoch 89:\n"
     ]
    },
    {
     "name": "stderr",
     "output_type": "stream",
     "text": [
      "40it [00:19,  2.00it/s]                                                                        \n"
     ]
    },
    {
     "name": "stdout",
     "output_type": "stream",
     "text": [
      "Training loss: 10.7330\n",
      "02/12/2023, 20:03:06\n",
      "Validation...\n",
      "validation loss: 161.8420\n",
      "validation metrics per feature:  {'Manufacturer': 0.9763104838709677, 'Manufacturer Model Name': 0.8689516129032258, 'Scan Options': 0.9652217741935484, 'Patient Position During MRI': 0.9193548387096774, 'Field Strength (Tesla)': 0.8891129032258065, 'Contrast Agent': 0.7076612903225806, 'Acquisition Matrix': 0.7636088709677419, 'Slice Thickness ': 0.14641980538445135, 'Flip Angle \\n': 0.09901611194495231, 'FOV Computed (Field of View) in cm ': 159.10584037534653, 'TE (Echo Time)': 0.032361442403447245, 'TR (Repetition Time)': 0.10128937661647797} \n",
      "\n",
      "Epoch 90:\n"
     ]
    },
    {
     "name": "stderr",
     "output_type": "stream",
     "text": [
      "40it [00:18,  2.16it/s]                                                                        \n"
     ]
    },
    {
     "name": "stdout",
     "output_type": "stream",
     "text": [
      "Training loss: 10.3400\n",
      "02/12/2023, 20:03:28\n",
      "Validation...\n",
      "validation loss: 156.9513\n",
      "validation metrics per feature:  {'Manufacturer': 0.9783266129032258, 'Manufacturer Model Name': 0.7953629032258065, 'Scan Options': 0.9380040322580645, 'Patient Position During MRI': 0.907258064516129, 'Field Strength (Tesla)': 0.8876008064516129, 'Contrast Agent': 0.6703629032258065, 'Acquisition Matrix': 0.7111895161290323, 'Slice Thickness ': 0.15786132096282898, 'Flip Angle \\n': 0.08173477673722852, 'FOV Computed (Field of View) in cm ': 153.8273150536322, 'TE (Echo Time)': 0.01790910199164383, 'TR (Repetition Time)': 0.15403350250374886} \n",
      "\n",
      "Saving ...\n",
      "Epoch 91:\n"
     ]
    },
    {
     "name": "stderr",
     "output_type": "stream",
     "text": [
      "40it [00:19,  2.00it/s]                                                                        \n"
     ]
    },
    {
     "name": "stdout",
     "output_type": "stream",
     "text": [
      "Training loss: 8.5420\n",
      "02/12/2023, 20:03:52\n",
      "Validation...\n",
      "validation loss: 156.3833\n",
      "validation metrics per feature:  {'Manufacturer': 0.9763104838709677, 'Manufacturer Model Name': 0.8034274193548387, 'Scan Options': 0.9395161290322581, 'Patient Position During MRI': 0.9334677419354839, 'Field Strength (Tesla)': 0.8659274193548387, 'Contrast Agent': 0.6799395161290323, 'Acquisition Matrix': 0.7404233870967742, 'Slice Thickness ': 0.14766373725668078, 'Flip Angle \\n': 0.07819931245138569, 'FOV Computed (Field of View) in cm ': 153.39387807538432, 'TE (Echo Time)': 0.013446661012787972, 'TR (Repetition Time)': 0.088582418498493} \n",
      "\n",
      "Epoch 92:\n"
     ]
    },
    {
     "name": "stderr",
     "output_type": "stream",
     "text": [
      "40it [00:18,  2.20it/s]                                                                        \n"
     ]
    },
    {
     "name": "stdout",
     "output_type": "stream",
     "text": [
      "Training loss: 7.7819\n",
      "02/12/2023, 20:04:15\n",
      "Validation...\n",
      "validation loss: 178.8019\n",
      "validation metrics per feature:  {'Manufacturer': 0.9783266129032258, 'Manufacturer Model Name': 0.8452620967741935, 'Scan Options': 0.9556451612903226, 'Patient Position During MRI': 0.8986895161290323, 'Field Strength (Tesla)': 0.8921370967741935, 'Contrast Agent': 0.7202620967741935, 'Acquisition Matrix': 0.7273185483870968, 'Slice Thickness ': 0.15114511909984774, 'Flip Angle \\n': 0.08130757618815668, 'FOV Computed (Field of View) in cm ': 175.97598561932963, 'TE (Echo Time)': 0.01421615547470508, 'TR (Repetition Time)': 0.08676880694204761} \n",
      "\n",
      "Epoch 93:\n"
     ]
    },
    {
     "name": "stderr",
     "output_type": "stream",
     "text": [
      "40it [00:18,  2.22it/s]                                                                        \n"
     ]
    },
    {
     "name": "stdout",
     "output_type": "stream",
     "text": [
      "Training loss: 8.0983\n",
      "02/12/2023, 20:04:37\n",
      "Validation...\n",
      "validation loss: 158.1590\n",
      "validation metrics per feature:  {'Manufacturer': 0.9768145161290323, 'Manufacturer Model Name': 0.8215725806451613, 'Scan Options': 0.9420362903225806, 'Patient Position During MRI': 0.9375, 'Field Strength (Tesla)': 0.8805443548387096, 'Contrast Agent': 0.7106854838709677, 'Acquisition Matrix': 0.7711693548387096, 'Slice Thickness ': 0.14985278248786926, 'Flip Angle \\n': 0.10760291930167906, 'FOV Computed (Field of View) in cm ': 155.39834520893712, 'TE (Echo Time)': 0.014780582739941536, 'TR (Repetition Time)': 0.0855860997351908} \n",
      "\n",
      "Epoch 94:\n"
     ]
    },
    {
     "name": "stderr",
     "output_type": "stream",
     "text": [
      "40it [00:19,  2.04it/s]                                                                        \n"
     ]
    },
    {
     "name": "stdout",
     "output_type": "stream",
     "text": [
      "Training loss: 9.1567\n",
      "02/12/2023, 20:05:00\n",
      "Validation...\n",
      "validation loss: 161.5519\n",
      "validation metrics per feature:  {'Manufacturer': 0.9783266129032258, 'Manufacturer Model Name': 0.8351814516129032, 'Scan Options': 0.9627016129032258, 'Patient Position During MRI': 0.9163306451612904, 'Field Strength (Tesla)': 0.8765120967741935, 'Contrast Agent': 0.7278225806451613, 'Acquisition Matrix': 0.7328629032258065, 'Slice Thickness ': 0.15329827993146836, 'Flip Angle \\n': 0.1314371764179199, 'FOV Computed (Field of View) in cm ': 158.47845778926725, 'TE (Echo Time)': 0.03416434633395364, 'TR (Repetition Time)': 0.15928572296134888} \n",
      "\n",
      "Epoch 95:\n"
     ]
    },
    {
     "name": "stderr",
     "output_type": "stream",
     "text": [
      "40it [00:21,  1.86it/s]                                                                        \n"
     ]
    },
    {
     "name": "stdout",
     "output_type": "stream",
     "text": [
      "Training loss: 9.2830\n",
      "02/12/2023, 20:05:25\n",
      "Validation...\n",
      "validation loss: 158.4368\n",
      "validation metrics per feature:  {'Manufacturer': 0.9788306451612904, 'Manufacturer Model Name': 0.8366935483870968, 'Scan Options': 0.9637096774193549, 'Patient Position During MRI': 0.9319556451612904, 'Field Strength (Tesla)': 0.891633064516129, 'Contrast Agent': 0.7076612903225806, 'Acquisition Matrix': 0.7449596774193549, 'Slice Thickness ': 0.1488379845696111, 'Flip Angle \\n': 0.0717946024190995, 'FOV Computed (Field of View) in cm ': 155.66568583826864, 'TE (Echo Time)': 0.024591516883623217, 'TR (Repetition Time)': 0.09129469048592352} \n",
      "\n",
      "Saving ...\n",
      "Epoch 96:\n"
     ]
    },
    {
     "name": "stderr",
     "output_type": "stream",
     "text": [
      "40it [00:20,  1.96it/s]                                                                        \n"
     ]
    },
    {
     "name": "stdout",
     "output_type": "stream",
     "text": [
      "Training loss: 9.0007\n",
      "02/12/2023, 20:05:50\n",
      "Validation...\n",
      "validation loss: 165.9100\n",
      "validation metrics per feature:  {'Manufacturer': 0.9778225806451613, 'Manufacturer Model Name': 0.8533266129032258, 'Scan Options': 0.9506048387096774, 'Patient Position During MRI': 0.9233870967741935, 'Field Strength (Tesla)': 0.9017137096774194, 'Contrast Agent': 0.7384072580645161, 'Acquisition Matrix': 0.7852822580645161, 'Slice Thickness ': 0.14527182665563398, 'Flip Angle \\n': 0.0760326137946498, 'FOV Computed (Field of View) in cm ': 163.29495165424962, 'TE (Echo Time)': 0.010598554981932524, 'TR (Repetition Time)': 0.09413260173413061} \n",
      "\n",
      "Epoch 97:\n"
     ]
    },
    {
     "name": "stderr",
     "output_type": "stream",
     "text": [
      "40it [00:19,  2.01it/s]                                                                        \n"
     ]
    },
    {
     "name": "stdout",
     "output_type": "stream",
     "text": [
      "Training loss: 8.0447\n",
      "02/12/2023, 20:06:14\n",
      "Validation...\n",
      "validation loss: 166.7526\n",
      "validation metrics per feature:  {'Manufacturer': 0.9788306451612904, 'Manufacturer Model Name': 0.8805443548387096, 'Scan Options': 0.9667338709677419, 'Patient Position During MRI': 0.9369959677419355, 'Field Strength (Tesla)': 0.9097782258064516, 'Contrast Agent': 0.7273185483870968, 'Acquisition Matrix': 0.7852822580645161, 'Slice Thickness ': 0.15675002769116433, 'Flip Angle \\n': 0.07333740964531898, 'FOV Computed (Field of View) in cm ': 164.2292236820344, 'TE (Echo Time)': 0.01704455085939938, 'TR (Repetition Time)': 0.09491270756529223} \n",
      "\n",
      "Epoch 98:\n"
     ]
    },
    {
     "name": "stderr",
     "output_type": "stream",
     "text": [
      "40it [00:20,  1.98it/s]                                                                        \n"
     ]
    },
    {
     "name": "stdout",
     "output_type": "stream",
     "text": [
      "Training loss: 8.6437\n",
      "02/12/2023, 20:06:40\n",
      "Validation...\n",
      "validation loss: 166.2743\n",
      "validation metrics per feature:  {'Manufacturer': 0.9778225806451613, 'Manufacturer Model Name': 0.78125, 'Scan Options': 0.9470766129032258, 'Patient Position During MRI': 0.9077620967741935, 'Field Strength (Tesla)': 0.9037298387096774, 'Contrast Agent': 0.7071572580645161, 'Acquisition Matrix': 0.6920362903225806, 'Slice Thickness ': 0.17015775653623766, 'Flip Angle \\n': 0.07377566445258356, 'FOV Computed (Field of View) in cm ': 163.2487315516318, 'TE (Echo Time)': 0.014097631818825198, 'TR (Repetition Time)': 0.09421218547128862} \n",
      "\n",
      "Epoch 99:\n"
     ]
    },
    {
     "name": "stderr",
     "output_type": "stream",
     "text": [
      "40it [00:19,  2.02it/s]                                                                        \n"
     ]
    },
    {
     "name": "stdout",
     "output_type": "stream",
     "text": [
      "Training loss: 8.9224\n",
      "02/12/2023, 20:07:05\n",
      "Validation...\n",
      "validation loss: 183.4317\n",
      "validation metrics per feature:  {'Manufacturer': 0.9778225806451613, 'Manufacturer Model Name': 0.8659274193548387, 'Scan Options': 0.9601814516129032, 'Patient Position During MRI': 0.9112903225806451, 'Field Strength (Tesla)': 0.8825604838709677, 'Contrast Agent': 0.7384072580645161, 'Acquisition Matrix': 0.748991935483871, 'Slice Thickness ': 0.15096055812412693, 'Flip Angle \\n': 0.07773031486618903, 'FOV Computed (Field of View) in cm ': 180.66366774036038, 'TE (Echo Time)': 0.011915003940943749, 'TR (Repetition Time)': 0.11579222664717705} \n",
      "\n"
     ]
    }
   ],
   "source": [
    "if train:\n",
    "    # training\n",
    "    epochs = 100\n",
    "    checkpoint_dir = \"saved_models/feature_pred_all/{}\".format(dataset_name)\n",
    "\n",
    "    optimizer = torch.optim.Adam(net.parameters(),\n",
    "                                lr= 0.001,# default=0.001\n",
    "                                weight_decay=0.0001     \n",
    "                            )\n",
    "\n",
    "    start_epoch = 0\n",
    "    best_val_loss = np.inf\n",
    "    for epoch in range(start_epoch, epochs):\n",
    "        net.train()\n",
    "        print(\"Epoch {}:\".format(epoch))\n",
    "\n",
    "        total_examples = 0\n",
    "\n",
    "        train_loss = 0\n",
    "        train_feature_losses = {feature_name : 0 for feature_name in all_feature_names.keys()}\n",
    "\n",
    "        # train for one epoch\n",
    "        for batch_idx, (inputs, targets, _) in tqdm(enumerate(trainloader), total=len(trainloader.dataset)//train_batchsize):\n",
    "            inputs = inputs.to(device)\n",
    "\n",
    "            # apply transformations\n",
    "            inputs = train_transform(inputs)\n",
    "\n",
    "            # reset gradients\n",
    "            optimizer.zero_grad()\n",
    "\n",
    "            # inference\n",
    "            outputs = net(inputs)\n",
    "\n",
    "            # backprop\n",
    "            total_loss, feature_losses, _ = total_criterion(outputs, targets)\n",
    "            total_loss.backward()\n",
    "\n",
    "            # iterate\n",
    "            optimizer.step()\n",
    "\n",
    "            train_loss += total_loss\n",
    "            train_feature_losses = {feature_name : train_feature_losses[feature_name] + feature_losses[feature_name] for feature_name, _ in feature_losses.items()}\n",
    "\n",
    "        # results\n",
    "        avg_loss = train_loss / (batch_idx + 1)\n",
    "        print(\"Training loss: %.4f\" %(avg_loss))\n",
    "        # print(\"training loss per feature: \", {feature_name : train_feature_losses[feature_name] / (batch_idx + 1) for feature_name, feature_loss in train_feature_losses.items()})\n",
    "\n",
    "        print(datetime.datetime.now().strftime(\"%m/%d/%Y, %H:%M:%S\"))\n",
    "        print(\"Validation...\")\n",
    "        total_examples = 0\n",
    "\n",
    "        net.eval()\n",
    "\n",
    "        val_loss = 0\n",
    "        val_feature_losses = {feature_name : 0 for feature_name in all_feature_names.keys()}\n",
    "\n",
    "        # for accuracy computation\n",
    "        total_examples = 0\n",
    "        total_feature_correct_classification_examples = None \n",
    "        with torch.no_grad():\n",
    "            for batch_idx, (inputs, targets, _) in enumerate(valloader):\n",
    "                # Copy inputs to device\n",
    "                inputs = inputs.to(device)\n",
    "                # Generate output from the DNN.\n",
    "                outputs = net(inputs)\n",
    "                \n",
    "                total_loss, feature_losses, feature_correct_classification_examples = total_criterion(outputs, targets)\n",
    "\n",
    "                # print(feature_correct_classification_examples)\n",
    "\n",
    "                val_loss += total_loss\n",
    "                val_feature_losses = {feature_name : val_feature_losses[feature_name] + feature_losses[feature_name] for feature_name, feature_loss in feature_losses.items()}\n",
    "\n",
    "                # for accuracy computation at the end\n",
    "                total_examples += eval_batchsize \n",
    "\n",
    "                if not total_feature_correct_classification_examples:\n",
    "                    # initialize correct example counts only for classification features\n",
    "                    total_feature_correct_classification_examples = {feature_name : 0 for feature_name in feature_correct_classification_examples.keys()}\n",
    "                # add counts to totals\n",
    "                total_feature_correct_classification_examples = {feature_name : total_feature_correct_classification_examples[feature_name] + feature_correct_classification_examples[feature_name] for feature_name, _ in feature_correct_classification_examples.items()}\n",
    "\n",
    "                # print('running total correct example counts:', total_feature_correct_classification_examples, '\\n')\n",
    "\n",
    "        avg_loss = val_loss / len(valloader)\n",
    "        print(\"validation loss: %.4f\" %(avg_loss))\n",
    "\n",
    "        # show metrics per feature (convert CE losses to accΩuracies)\n",
    "        # avg all losses over batch\n",
    "        val_metrics_per_feature = {feature_name : val_feature_losses[feature_name] / (batch_idx + 1) for feature_name, feature_loss in val_feature_losses.items()}\n",
    "\n",
    "        # convert CE losses to accuracies\n",
    "        for feature_name in feature_correct_classification_examples.keys():\n",
    "            avg_acc = total_feature_correct_classification_examples[feature_name] / total_examples\n",
    "            val_metrics_per_feature[feature_name] = avg_acc\n",
    "\n",
    "        print(\"validation metrics per feature: \", val_metrics_per_feature, '\\n')\n",
    "\n",
    "        # Save for checkpoint\n",
    "        if save_checkpoints:\n",
    "            if (avg_loss < best_val_loss and checkpoint_setting == 'best') or ((epoch % 5 == 0) and checkpoint_setting == 'incremental'):\n",
    "                best_val_loss = avg_loss\n",
    "                if not os.path.exists(checkpoint_dir):\n",
    "                    os.makedirs(checkpoint_dir)\n",
    "                print(\"Saving ...\")\n",
    "                state = {'net': net.state_dict(),\n",
    "                            'epoch': epoch}\n",
    "\n",
    "                # delete older checkpoint\n",
    "                if checkpoint_setting == 'best' and checkpoint_path_prev:\n",
    "                    os.remove(checkpoint_path_prev)\n",
    "\n",
    "                # save new checkpoint\n",
    "                best_val_metric = avg_loss\n",
    "                checkpoint_path = \"{}_{}_{}_{}_{}_{}_best.h5\".format(model.__name__,\n",
    "                    len(trainset), len(valset), best_val_metric, epoch, labeling)\n",
    "                checkpoint_path = os.path.join(checkpoint_dir, checkpoint_path)\n",
    "                torch.save(state, checkpoint_path)\n",
    "\n",
    "                checkpoint_path_prev = checkpoint_path\n"
   ]
  },
  {
   "cell_type": "markdown",
   "id": "01fae097",
   "metadata": {},
   "source": [
    "# Testing"
   ]
  },
  {
   "cell_type": "code",
   "execution_count": null,
   "id": "d3f2d3b4",
   "metadata": {},
   "outputs": [
    {
     "ename": "RuntimeError",
     "evalue": "Error(s) in loading state_dict for DataParallel:\n\tsize mismatch for module.fc.weight: copying a param with shape torch.Size([96, 512]) from checkpoint, the shape in current model is torch.Size([47, 512]).\n\tsize mismatch for module.fc.bias: copying a param with shape torch.Size([96]) from checkpoint, the shape in current model is torch.Size([47]).",
     "output_type": "error",
     "traceback": [
      "\u001b[0;31m---------------------------------------------------------------------------\u001b[0m",
      "\u001b[0;31mRuntimeError\u001b[0m                              Traceback (most recent call last)",
      "Cell \u001b[0;32mIn[10], line 3\u001b[0m\n\u001b[1;32m      1\u001b[0m \u001b[38;5;66;03m# checkpoint_path = 'saved_models/feature_pred_all/dbc_by_scanner/resnet18_10026_1952_4.652565956115723_90_all_best.h5'\u001b[39;00m\n\u001b[1;32m      2\u001b[0m checkpoint_path \u001b[38;5;241m=\u001b[39m \u001b[38;5;124m'\u001b[39m\u001b[38;5;124msaved_models/feature_pred_all/dbc_by_scanner/resnet18_10115_1906_4.95994758605957_45_all_best.h5\u001b[39m\u001b[38;5;124m'\u001b[39m\n\u001b[0;32m----> 3\u001b[0m \u001b[43mnet\u001b[49m\u001b[38;5;241;43m.\u001b[39;49m\u001b[43mload_state_dict\u001b[49m\u001b[43m(\u001b[49m\u001b[43mtorch\u001b[49m\u001b[38;5;241;43m.\u001b[39;49m\u001b[43mload\u001b[49m\u001b[43m(\u001b[49m\u001b[43mcheckpoint_path\u001b[49m\u001b[43m)\u001b[49m\u001b[43m[\u001b[49m\u001b[38;5;124;43m'\u001b[39;49m\u001b[38;5;124;43mnet\u001b[39;49m\u001b[38;5;124;43m'\u001b[39;49m\u001b[43m]\u001b[49m\u001b[43m)\u001b[49m\n\u001b[1;32m      5\u001b[0m \u001b[38;5;28mprint\u001b[39m(\u001b[38;5;124m\"\u001b[39m\u001b[38;5;124mTesting...\u001b[39m\u001b[38;5;124m\"\u001b[39m)\n\u001b[1;32m      6\u001b[0m total_examples \u001b[38;5;241m=\u001b[39m \u001b[38;5;241m0\u001b[39m\n",
      "File \u001b[0;32m/usr/local/lib/python3.8/dist-packages/torch/nn/modules/module.py:1671\u001b[0m, in \u001b[0;36mModule.load_state_dict\u001b[0;34m(self, state_dict, strict)\u001b[0m\n\u001b[1;32m   1666\u001b[0m         error_msgs\u001b[38;5;241m.\u001b[39minsert(\n\u001b[1;32m   1667\u001b[0m             \u001b[38;5;241m0\u001b[39m, \u001b[38;5;124m'\u001b[39m\u001b[38;5;124mMissing key(s) in state_dict: \u001b[39m\u001b[38;5;132;01m{}\u001b[39;00m\u001b[38;5;124m. \u001b[39m\u001b[38;5;124m'\u001b[39m\u001b[38;5;241m.\u001b[39mformat(\n\u001b[1;32m   1668\u001b[0m                 \u001b[38;5;124m'\u001b[39m\u001b[38;5;124m, \u001b[39m\u001b[38;5;124m'\u001b[39m\u001b[38;5;241m.\u001b[39mjoin(\u001b[38;5;124m'\u001b[39m\u001b[38;5;124m\"\u001b[39m\u001b[38;5;132;01m{}\u001b[39;00m\u001b[38;5;124m\"\u001b[39m\u001b[38;5;124m'\u001b[39m\u001b[38;5;241m.\u001b[39mformat(k) \u001b[38;5;28;01mfor\u001b[39;00m k \u001b[38;5;129;01min\u001b[39;00m missing_keys)))\n\u001b[1;32m   1670\u001b[0m \u001b[38;5;28;01mif\u001b[39;00m \u001b[38;5;28mlen\u001b[39m(error_msgs) \u001b[38;5;241m>\u001b[39m \u001b[38;5;241m0\u001b[39m:\n\u001b[0;32m-> 1671\u001b[0m     \u001b[38;5;28;01mraise\u001b[39;00m \u001b[38;5;167;01mRuntimeError\u001b[39;00m(\u001b[38;5;124m'\u001b[39m\u001b[38;5;124mError(s) in loading state_dict for \u001b[39m\u001b[38;5;132;01m{}\u001b[39;00m\u001b[38;5;124m:\u001b[39m\u001b[38;5;130;01m\\n\u001b[39;00m\u001b[38;5;130;01m\\t\u001b[39;00m\u001b[38;5;132;01m{}\u001b[39;00m\u001b[38;5;124m'\u001b[39m\u001b[38;5;241m.\u001b[39mformat(\n\u001b[1;32m   1672\u001b[0m                        \u001b[38;5;28mself\u001b[39m\u001b[38;5;241m.\u001b[39m\u001b[38;5;18m__class__\u001b[39m\u001b[38;5;241m.\u001b[39m\u001b[38;5;18m__name__\u001b[39m, \u001b[38;5;124m\"\u001b[39m\u001b[38;5;130;01m\\n\u001b[39;00m\u001b[38;5;130;01m\\t\u001b[39;00m\u001b[38;5;124m\"\u001b[39m\u001b[38;5;241m.\u001b[39mjoin(error_msgs)))\n\u001b[1;32m   1673\u001b[0m \u001b[38;5;28;01mreturn\u001b[39;00m _IncompatibleKeys(missing_keys, unexpected_keys)\n",
      "\u001b[0;31mRuntimeError\u001b[0m: Error(s) in loading state_dict for DataParallel:\n\tsize mismatch for module.fc.weight: copying a param with shape torch.Size([96, 512]) from checkpoint, the shape in current model is torch.Size([47, 512]).\n\tsize mismatch for module.fc.bias: copying a param with shape torch.Size([96]) from checkpoint, the shape in current model is torch.Size([47])."
     ]
    }
   ],
   "source": [
    "checkpoint_path = 'saved_models/feature_pred_all/dbc_by_scanner/...' # fill in here\n",
    "net.load_state_dict(torch.load(checkpoint_path)['net'])\n",
    "\n",
    "print(\"Testing...\")\n",
    "total_examples = 0\n",
    "\n",
    "net.eval()\n",
    "\n",
    "test_loss = 0\n",
    "test_feature_losses = {feature_name : 0 for feature_name in all_feature_names.keys()}\n",
    "\n",
    "# regression results\n",
    "TE_gt = []\n",
    "TE_pred = []\n",
    "TR_gt = []\n",
    "TR_pred = []\n",
    "\n",
    "# for accuracy computation\n",
    "total_examples = 0\n",
    "total_feature_correct_classification_examples = None \n",
    "topk_total_feature_correct_classification_examples = None \n",
    "with torch.no_grad():\n",
    "    for batch_idx, (inputs, targets, _) in enumerate(testloader):\n",
    "        # Copy inputs to device\n",
    "        inputs = inputs.to(device)\n",
    "        # Generate output from the DNN.\n",
    "        outputs = net(inputs)\n",
    "\n",
    "        # print(outputs)\n",
    "\n",
    "        # store regression results individually\n",
    "        TE_pred += outputs[:, -2: -1].flatten().tolist()\n",
    "        TR_pred += outputs[:, -1:].flatten().tolist()\n",
    "        TE_gt += targets['TE (Echo Time)'].float().tolist()\n",
    "        TR_gt += targets['TR (Repetition Time)'].float().tolist()\n",
    "        \n",
    "        total_loss, feature_losses, feature_correct_classification_examples, topk_feature_correct_classification_counts = total_criterion(outputs, targets, get_topk_counts=True)\n",
    "\n",
    "        # print(feature_correct_classification_examples)\n",
    "\n",
    "        test_loss += total_loss\n",
    "        test_feature_losses = {feature_name : test_feature_losses[feature_name] + feature_losses[feature_name] for feature_name, feature_loss in feature_losses.items()}\n",
    "\n",
    "        # for accuracy computation at the end\n",
    "        total_examples += eval_batchsize \n",
    "\n",
    "        if not total_feature_correct_classification_examples:\n",
    "            # initialize correct example counts only for classification features\n",
    "            total_feature_correct_classification_examples = {feature_name : 0 for feature_name in feature_correct_classification_examples.keys()}\n",
    "        # add counts to totals\n",
    "        total_feature_correct_classification_examples = {feature_name : total_feature_correct_classification_examples[feature_name] + feature_correct_classification_examples[feature_name] for feature_name, _ in feature_correct_classification_examples.items()}\n",
    "\n",
    "        # print('running total correct example counts:', total_feature_correct_classification_examples, '\\n')\n",
    "\n",
    "        # top k stuff\n",
    "        if not topk_total_feature_correct_classification_examples:\n",
    "            # initialize correct example counts only for classification features\n",
    "            topk_total_feature_correct_classification_examples = {}\n",
    "            for k in topk_feature_correct_classification_counts.keys():\n",
    "                topk_total_feature_correct_classification_examples[k] = {feature_name : 0 for feature_name in topk_feature_correct_classification_counts[k].keys()}\n",
    "        \n",
    "        # add counts to totals\n",
    "        for k in topk_feature_correct_classification_counts.keys():\n",
    "            topk_total_feature_correct_classification_examples[k] = {feature_name : topk_total_feature_correct_classification_examples[k][feature_name] + topk_feature_correct_classification_counts[k][feature_name] for feature_name, _ in topk_feature_correct_classification_counts[k].items()} \n",
    "\n",
    "avg_loss = test_loss / len(testloader)\n",
    "print(\"test loss: %.4f\" %(avg_loss))\n",
    "\n",
    "# show metrics per feature (convert CE losses to accuracies)\n",
    "# avg all losses over batch\n",
    "test_metrics_per_feature = {feature_name : test_feature_losses[feature_name] / (batch_idx + 1) for feature_name, feature_loss in test_feature_losses.items()}\n",
    "\n",
    "# convert CE losses to accuracies\n",
    "for feature_name in feature_correct_classification_examples.keys():\n",
    "    avg_acc = total_feature_correct_classification_examples[feature_name] / total_examples\n",
    "    test_metrics_per_feature[feature_name] = avg_acc\n",
    "\n",
    "print(\"test metrics per feature: \", test_metrics_per_feature, '\\n')\n",
    "\n",
    "print(\"top k accuracies:\")\n",
    "for k, topk_correct_classification_counts in topk_feature_correct_classification_counts.items():\n",
    "    print(\"k = {}:\".format(k))\n",
    "    print(topk_correct_classification_counts)\n",
    "    for feature_name in topk_correct_classification_counts.keys():\n",
    "        avg_acc = topk_total_feature_correct_classification_examples[k][feature_name] / total_examples\n",
    "        print(feature_name, avg_acc)\n"
   ]
  },
  {
   "cell_type": "markdown",
   "id": "ef36f355",
   "metadata": {},
   "source": [
    "# Visualizations"
   ]
  },
  {
   "cell_type": "markdown",
   "id": "52240740",
   "metadata": {},
   "source": [
    "## TE and TR"
   ]
  },
  {
   "cell_type": "code",
   "execution_count": null,
   "id": "cc913427",
   "metadata": {},
   "outputs": [],
   "source": [
    "viz_dir = 'visualizations'\n",
    "# fontsize_lrg = 26\n",
    "# fontsize_med = 20\n",
    "# fontsize_sm = 16\n",
    "fontsize_lrg = 16\n",
    "fontsize_med = 12\n",
    "fontsize_sm = 10\n",
    "# visualize regression errors\n",
    "# prediction vs. g.t.\n",
    "colors = ['b', 'r']\n",
    "fig, axs = plt.subplots(1, 2, figsize=(8,4))\n",
    "for idx, feature_name in enumerate(['TE (Echo Time)', 'TR (Repetition Time)']):\n",
    "    gt = TE_gt if feature_name == 'TE (Echo Time)' else TR_gt\n",
    "    pred = TE_pred if feature_name == 'TE (Echo Time)' else TR_pred\n",
    "\n",
    "    xline = np.linspace(np.min(gt)-0.25, np.max(gt)+.25, 1000)\n",
    "    axs[idx].plot(xline, xline, 'k-')\n",
    "    axs[idx].scatter(gt, pred, s=10, alpha=0.35, c=colors[idx])\n",
    "    axs[idx].set_xlabel('true value (ms)', fontsize=fontsize_med)\n",
    "    if idx == 0:\n",
    "        axs[idx].set_ylabel('predicted value (ms)', fontsize=fontsize_med)\n",
    "    axs[idx].set_title('{}'.format(feature_name))#, round(test_metrics_per_feature[feature_name], 4)))\n",
    "    axs[idx].set_ylim(np.min(xline), np.max(xline))\n",
    "    axs[idx].grid()\n",
    "\n",
    "# fig.suptitle(\"Prediction vs. Ground truth: TE and TR\")\n",
    "fig.tight_layout()\n",
    "plt.savefig(os.path.join(viz_dir, 'regression_results.pdf'.format(feature_name)))\n",
    "plt.show()"
   ]
  },
  {
   "cell_type": "markdown",
   "id": "8e906f75",
   "metadata": {},
   "source": [
    "## Example predictions (visualization)"
   ]
  },
  {
   "cell_type": "code",
   "execution_count": null,
   "id": "e5848477",
   "metadata": {},
   "outputs": [],
   "source": [
    "def get_prediction_names(patient_preds):\n",
    "    clinical_features_cats_path = 'data/dbc/maps/clinical_feature_categories.csv'\n",
    "    # convert a predicted category index for an IAP into its name\n",
    "    patient_preds_named = {}\n",
    "    clinical_features = pd.read_csv(clinical_features_cats_path)\n",
    "    for feature_name, feature_pred in patient_preds.items():\n",
    "        # if continuous, just add unit\n",
    "        if feature_name in ['TE (Echo Time)', 'TR (Repetition Time)']:\n",
    "            patient_preds_named[feature_name] = '{} ms'.format(round(float(feature_pred), 3))\n",
    "            continue\n",
    "        else:\n",
    "            feature_pred = int(feature_pred)\n",
    "            feature_map = clinical_features[feature_name].iloc[0]\n",
    "            feature_map = feature_map.split(',')\n",
    "            feature_map = [x.strip() for x in feature_map]\n",
    "            feature_map = {int(x.split('=')[1]): x.split('=')[0] for x in feature_map}\n",
    "            named_pred = feature_map[feature_pred] \n",
    "\n",
    "            # shorten name\n",
    "            if feature_name == 'Manufacturer':\n",
    "                named_pred = named_pred.split(' ')[0]\n",
    "\n",
    "            if feature_name == 'Scan Options':\n",
    "               named_pred = str(feature_pred)\n",
    "\n",
    "            # add unit if necessary\n",
    "            if feature_name == 'Field Strength (Tesla)':\n",
    "                named_pred = '{} T'.format(named_pred)\n",
    "            elif feature_name == 'Slice Thickness ':\n",
    "                named_pred = '{} mm'.format(named_pred)\n",
    "            elif feature_name == 'Flip Angle \\n':\n",
    "                named_pred = '{} deg'.format(named_pred)\n",
    "            elif feature_name == 'FOV Computed (Field of View) in cm ':\n",
    "                named_pred = '{} cm'.format(named_pred)\n",
    "\n",
    "            \n",
    "            patient_preds_named[feature_name] = named_pred\n",
    "\n",
    "    return patient_preds_named\n",
    "\n",
    "num_examples = 6\n",
    "fig, axs = plt.subplots(2, num_examples+1, figsize=(2 * num_examples, 4.5), height_ratios=[1, 1])\n",
    "\n",
    "# feature name labels\n",
    "all_feature_names_short = []\n",
    "\n",
    "# shorten if needed\n",
    "for feature_name in all_feature_names.keys():\n",
    "    name = feature_name\n",
    "    if feature_name == 'Manufacturer Model Name':\n",
    "        name = 'Model'\n",
    "    elif feature_name == 'Patient Position During MRI':\n",
    "        name = 'Patient Position'\n",
    "    elif feature_name == 'Slice Thickness ':\n",
    "        name = 'Slice Thickness'\n",
    "    elif feature_name == 'Flip Angle \\n':\n",
    "        name = 'Flip Angle'\n",
    "    elif feature_name == 'FOV Computed (Field of View) in cm ':\n",
    "        name = 'FOV Computed'\n",
    "    elif feature_name == 'Field Strength (Tesla)':\n",
    "        name = 'Field Strength'\n",
    "    elif feature_name == 'TR (Repetition Time)':\n",
    "        name = 'TR (Rep. Time)'\n",
    "\n",
    "    \n",
    "    \n",
    "    all_feature_names_short.append(name)\n",
    "\n",
    "\n",
    "txt = ['{}:'.format(n) for n in all_feature_names_short]\n",
    "txt = '\\n' + '\\n'.join(txt)\n",
    "axs[0, 0].text(0, 0.1, \"Predicted IAPs\", fontweight='semibold', fontsize=11)\n",
    "axs[0, 0].set_axis_off()\n",
    "axs[1, 0].set_axis_off()\n",
    "axs[1, 0].text(0, 0, txt, fontstyle='italic')\n",
    "\n",
    "\n",
    "# get predictions\n",
    "net.eval()\n",
    "\n",
    "testloader.shuffle = True\n",
    "\n",
    "patient_IDs = []\n",
    "with torch.no_grad():\n",
    "    for batch_idx, (inputs, targets, filenames) in enumerate(testloader):\n",
    "        # if len(patient_IDs) < num_examples:\n",
    "        #     break\n",
    "\n",
    "        # Copy inputs to device\n",
    "        inputs = inputs.to(device)\n",
    "        # Generate output from the DNN.\n",
    "        outputs = net(inputs)\n",
    "        total_loss, feature_losses, feature_correct_classification_examples, predictions = total_criterion(outputs, targets, return_predictions=True)\n",
    "\n",
    "        #for idx in range(num_examples):\n",
    "        for idx in range(inputs.shape[0]):\n",
    "            col_idx = len(patient_IDs) + 1\n",
    "            patient_ID = filenames[idx].split('-')[2].replace('.png', '')\n",
    "            patient_preds = {feature_name : predictions[feature_name][idx].cpu().numpy() for feature_name in predictions.keys()}\n",
    "            \n",
    "            # ensure different patients shown\n",
    "            if patient_ID in patient_IDs:\n",
    "                continue\n",
    "\n",
    "            patient_IDs.append(patient_ID)\n",
    "            # show scan\n",
    "            try:\n",
    "                axs[0, col_idx].set_axis_off()\n",
    "                #axs[0, idx].set_title(\"Patient {}\".format(patient_ID))\n",
    "                axs[0, col_idx].imshow(inputs[idx,0,:,:].cpu().numpy(), cmap='gray')\n",
    "\n",
    "                # show predictions\n",
    "                # get named predictions\n",
    "                #patient_preds_named = testset.dataset.dataset.get_prediction_names(patient_preds)\n",
    "                patient_preds_named = get_prediction_names(patient_preds)\n",
    "\n",
    "                # are they correct?\n",
    "                for feature_name in patient_preds_named.keys():\n",
    "                    #print(patient_preds[feature_name], targets[feature_name][idx])\n",
    "                    correct = False\n",
    "                    if feature_name in ['TE (Echo Time)', 'TR (Repetition Time)']:\n",
    "                        # \"Correct\" if relative error <%1 for continuous IAPs\n",
    "                        pred = float(patient_preds[feature_name])\n",
    "                        gt = float(targets[feature_name][idx])\n",
    "                        if ((pred - gt) / gt) < 0.02:\n",
    "                            correct = True\n",
    "                    \n",
    "                    else:\n",
    "                        if patient_preds[feature_name] == targets[feature_name][idx].item():\n",
    "                            correct = True\n",
    "\n",
    "                    if correct:\n",
    "                        patient_preds_named[feature_name] = '{} {}'.format(patient_preds_named[feature_name], u'\\u2713')\n",
    "                    else:\n",
    "                        patient_preds_named[feature_name] = '{} {}'.format(patient_preds_named[feature_name], u'\\u2717')\n",
    "\n",
    "                preds_txt = '\\n'.join([str(v) for v in patient_preds_named.values()])\n",
    "\n",
    "                # show\n",
    "                axs[1, col_idx].set_axis_off()\n",
    "                axs[1, col_idx].text(0, 0, preds_txt)\n",
    "\n",
    "                print(filenames[idx])\n",
    "            \n",
    "            except IndexError:\n",
    "                break\n",
    "\n",
    "\n",
    "plt.savefig(os.path.join(viz_dir, 'predictions.pdf'), bbox_inches='tight')\n",
    "plt.show()\n"
   ]
  }
 ],
 "metadata": {
  "kernelspec": {
   "display_name": "Python 3 (ipykernel)",
   "language": "python",
   "name": "python3"
  },
  "language_info": {
   "codemirror_mode": {
    "name": "ipython",
    "version": 3
   },
   "file_extension": ".py",
   "mimetype": "text/x-python",
   "name": "python",
   "nbconvert_exporter": "python",
   "pygments_lexer": "ipython3",
   "version": "3.8.10"
  },
  "vscode": {
   "interpreter": {
    "hash": "31f2aee4e71d21fbe5cf8b01ff0e069b9275f58929596ceb00d14d90e3e16cd6"
   }
  }
 },
 "nbformat": 4,
 "nbformat_minor": 5
}
